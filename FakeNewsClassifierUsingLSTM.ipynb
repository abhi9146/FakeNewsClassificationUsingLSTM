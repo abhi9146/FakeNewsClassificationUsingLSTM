{
  "cells": [
    {
      "cell_type": "markdown",
      "metadata": {
        "id": "g55INj36kQa4"
      },
      "source": [
        "## Fake News Classifier Using LSTM\n",
        "\n",
        "Dataset: https://www.kaggle.com/c/fake-news/data#"
      ]
    },
    {
      "cell_type": "code",
      "execution_count": 1,
      "metadata": {
        "id": "eMKo8YWgkQa7"
      },
      "outputs": [],
      "source": [
        "import pandas as pd"
      ]
    },
    {
      "cell_type": "code",
      "execution_count": 2,
      "metadata": {
        "id": "3zwShP5bqHtd"
      },
      "outputs": [],
      "source": [
        "df=pd.read_csv('train.csv')"
      ]
    },
    {
      "cell_type": "code",
      "execution_count": 3,
      "metadata": {
        "colab": {
          "base_uri": "https://localhost:8080/",
          "height": 337
        },
        "id": "c5gs4vZhqSkC",
        "outputId": "93fe19aa-8a51-4819-c6e8-0c69e3c20400"
      },
      "outputs": [
        {
          "data": {
            "text/html": [
              "<div>\n",
              "<style scoped>\n",
              "    .dataframe tbody tr th:only-of-type {\n",
              "        vertical-align: middle;\n",
              "    }\n",
              "\n",
              "    .dataframe tbody tr th {\n",
              "        vertical-align: top;\n",
              "    }\n",
              "\n",
              "    .dataframe thead th {\n",
              "        text-align: right;\n",
              "    }\n",
              "</style>\n",
              "<table border=\"1\" class=\"dataframe\">\n",
              "  <thead>\n",
              "    <tr style=\"text-align: right;\">\n",
              "      <th></th>\n",
              "      <th>id</th>\n",
              "      <th>title</th>\n",
              "      <th>author</th>\n",
              "      <th>text</th>\n",
              "      <th>label</th>\n",
              "    </tr>\n",
              "  </thead>\n",
              "  <tbody>\n",
              "    <tr>\n",
              "      <th>0</th>\n",
              "      <td>0</td>\n",
              "      <td>House Dem Aide: We Didn’t Even See Comey’s Let...</td>\n",
              "      <td>Darrell Lucus</td>\n",
              "      <td>House Dem Aide: We Didn’t Even See Comey’s Let...</td>\n",
              "      <td>1</td>\n",
              "    </tr>\n",
              "    <tr>\n",
              "      <th>1</th>\n",
              "      <td>1</td>\n",
              "      <td>FLYNN: Hillary Clinton, Big Woman on Campus - ...</td>\n",
              "      <td>Daniel J. Flynn</td>\n",
              "      <td>Ever get the feeling your life circles the rou...</td>\n",
              "      <td>0</td>\n",
              "    </tr>\n",
              "    <tr>\n",
              "      <th>2</th>\n",
              "      <td>2</td>\n",
              "      <td>Why the Truth Might Get You Fired</td>\n",
              "      <td>Consortiumnews.com</td>\n",
              "      <td>Why the Truth Might Get You Fired October 29, ...</td>\n",
              "      <td>1</td>\n",
              "    </tr>\n",
              "    <tr>\n",
              "      <th>3</th>\n",
              "      <td>3</td>\n",
              "      <td>15 Civilians Killed In Single US Airstrike Hav...</td>\n",
              "      <td>Jessica Purkiss</td>\n",
              "      <td>Videos 15 Civilians Killed In Single US Airstr...</td>\n",
              "      <td>1</td>\n",
              "    </tr>\n",
              "    <tr>\n",
              "      <th>4</th>\n",
              "      <td>4</td>\n",
              "      <td>Iranian woman jailed for fictional unpublished...</td>\n",
              "      <td>Howard Portnoy</td>\n",
              "      <td>Print \\nAn Iranian woman has been sentenced to...</td>\n",
              "      <td>1</td>\n",
              "    </tr>\n",
              "  </tbody>\n",
              "</table>\n",
              "</div>"
            ],
            "text/plain": [
              "   id                                              title              author  \\\n",
              "0   0  House Dem Aide: We Didn’t Even See Comey’s Let...       Darrell Lucus   \n",
              "1   1  FLYNN: Hillary Clinton, Big Woman on Campus - ...     Daniel J. Flynn   \n",
              "2   2                  Why the Truth Might Get You Fired  Consortiumnews.com   \n",
              "3   3  15 Civilians Killed In Single US Airstrike Hav...     Jessica Purkiss   \n",
              "4   4  Iranian woman jailed for fictional unpublished...      Howard Portnoy   \n",
              "\n",
              "                                                text  label  \n",
              "0  House Dem Aide: We Didn’t Even See Comey’s Let...      1  \n",
              "1  Ever get the feeling your life circles the rou...      0  \n",
              "2  Why the Truth Might Get You Fired October 29, ...      1  \n",
              "3  Videos 15 Civilians Killed In Single US Airstr...      1  \n",
              "4  Print \\nAn Iranian woman has been sentenced to...      1  "
            ]
          },
          "execution_count": 3,
          "metadata": {},
          "output_type": "execute_result"
        }
      ],
      "source": [
        "df.head()"
      ]
    },
    {
      "cell_type": "code",
      "execution_count": 4,
      "metadata": {
        "colab": {
          "base_uri": "https://localhost:8080/"
        },
        "id": "NVHK4gBmkQa8",
        "outputId": "c17c1466-ccde-4860-db2c-ce56a41348a5"
      },
      "outputs": [
        {
          "data": {
            "text/plain": [
              "(20800, 5)"
            ]
          },
          "execution_count": 4,
          "metadata": {},
          "output_type": "execute_result"
        }
      ],
      "source": [
        "df.shape"
      ]
    },
    {
      "cell_type": "code",
      "execution_count": 5,
      "metadata": {
        "colab": {
          "base_uri": "https://localhost:8080/",
          "height": 337
        },
        "id": "Swch5ZCUkQa8",
        "outputId": "d6cb8657-eb0b-418f-914a-04602ec7a445"
      },
      "outputs": [
        {
          "data": {
            "text/html": [
              "<div>\n",
              "<style scoped>\n",
              "    .dataframe tbody tr th:only-of-type {\n",
              "        vertical-align: middle;\n",
              "    }\n",
              "\n",
              "    .dataframe tbody tr th {\n",
              "        vertical-align: top;\n",
              "    }\n",
              "\n",
              "    .dataframe thead th {\n",
              "        text-align: right;\n",
              "    }\n",
              "</style>\n",
              "<table border=\"1\" class=\"dataframe\">\n",
              "  <thead>\n",
              "    <tr style=\"text-align: right;\">\n",
              "      <th></th>\n",
              "      <th>id</th>\n",
              "      <th>title</th>\n",
              "      <th>author</th>\n",
              "      <th>text</th>\n",
              "      <th>label</th>\n",
              "    </tr>\n",
              "  </thead>\n",
              "  <tbody>\n",
              "    <tr>\n",
              "      <th>0</th>\n",
              "      <td>0</td>\n",
              "      <td>House Dem Aide: We Didn’t Even See Comey’s Let...</td>\n",
              "      <td>Darrell Lucus</td>\n",
              "      <td>House Dem Aide: We Didn’t Even See Comey’s Let...</td>\n",
              "      <td>1</td>\n",
              "    </tr>\n",
              "    <tr>\n",
              "      <th>1</th>\n",
              "      <td>1</td>\n",
              "      <td>FLYNN: Hillary Clinton, Big Woman on Campus - ...</td>\n",
              "      <td>Daniel J. Flynn</td>\n",
              "      <td>Ever get the feeling your life circles the rou...</td>\n",
              "      <td>0</td>\n",
              "    </tr>\n",
              "    <tr>\n",
              "      <th>2</th>\n",
              "      <td>2</td>\n",
              "      <td>Why the Truth Might Get You Fired</td>\n",
              "      <td>Consortiumnews.com</td>\n",
              "      <td>Why the Truth Might Get You Fired October 29, ...</td>\n",
              "      <td>1</td>\n",
              "    </tr>\n",
              "    <tr>\n",
              "      <th>3</th>\n",
              "      <td>3</td>\n",
              "      <td>15 Civilians Killed In Single US Airstrike Hav...</td>\n",
              "      <td>Jessica Purkiss</td>\n",
              "      <td>Videos 15 Civilians Killed In Single US Airstr...</td>\n",
              "      <td>1</td>\n",
              "    </tr>\n",
              "    <tr>\n",
              "      <th>4</th>\n",
              "      <td>4</td>\n",
              "      <td>Iranian woman jailed for fictional unpublished...</td>\n",
              "      <td>Howard Portnoy</td>\n",
              "      <td>Print \\nAn Iranian woman has been sentenced to...</td>\n",
              "      <td>1</td>\n",
              "    </tr>\n",
              "  </tbody>\n",
              "</table>\n",
              "</div>"
            ],
            "text/plain": [
              "   id                                              title              author  \\\n",
              "0   0  House Dem Aide: We Didn’t Even See Comey’s Let...       Darrell Lucus   \n",
              "1   1  FLYNN: Hillary Clinton, Big Woman on Campus - ...     Daniel J. Flynn   \n",
              "2   2                  Why the Truth Might Get You Fired  Consortiumnews.com   \n",
              "3   3  15 Civilians Killed In Single US Airstrike Hav...     Jessica Purkiss   \n",
              "4   4  Iranian woman jailed for fictional unpublished...      Howard Portnoy   \n",
              "\n",
              "                                                text  label  \n",
              "0  House Dem Aide: We Didn’t Even See Comey’s Let...      1  \n",
              "1  Ever get the feeling your life circles the rou...      0  \n",
              "2  Why the Truth Might Get You Fired October 29, ...      1  \n",
              "3  Videos 15 Civilians Killed In Single US Airstr...      1  \n",
              "4  Print \\nAn Iranian woman has been sentenced to...      1  "
            ]
          },
          "execution_count": 5,
          "metadata": {},
          "output_type": "execute_result"
        }
      ],
      "source": [
        "df.head()"
      ]
    },
    {
      "cell_type": "code",
      "execution_count": 6,
      "metadata": {
        "colab": {
          "base_uri": "https://localhost:8080/"
        },
        "id": "rpP-K8lYqk8S",
        "outputId": "98ec9a0b-0082-4063-c72f-02d3564911b3"
      },
      "outputs": [
        {
          "data": {
            "text/plain": [
              "id           0\n",
              "title      558\n",
              "author    1957\n",
              "text        39\n",
              "label        0\n",
              "dtype: int64"
            ]
          },
          "execution_count": 6,
          "metadata": {},
          "output_type": "execute_result"
        }
      ],
      "source": [
        "df.isnull().sum()"
      ]
    },
    {
      "cell_type": "code",
      "execution_count": 7,
      "metadata": {
        "id": "vC1MH72SkQa9"
      },
      "outputs": [],
      "source": [
        "###Drop Nan Values\n",
        "df=df.dropna()\n"
      ]
    },
    {
      "cell_type": "code",
      "execution_count": 8,
      "metadata": {
        "colab": {
          "base_uri": "https://localhost:8080/",
          "height": 337
        },
        "id": "y_EgTAasq9zl",
        "outputId": "5af83d96-5651-4f09-ee0a-229473b522fa"
      },
      "outputs": [
        {
          "data": {
            "text/html": [
              "<div>\n",
              "<style scoped>\n",
              "    .dataframe tbody tr th:only-of-type {\n",
              "        vertical-align: middle;\n",
              "    }\n",
              "\n",
              "    .dataframe tbody tr th {\n",
              "        vertical-align: top;\n",
              "    }\n",
              "\n",
              "    .dataframe thead th {\n",
              "        text-align: right;\n",
              "    }\n",
              "</style>\n",
              "<table border=\"1\" class=\"dataframe\">\n",
              "  <thead>\n",
              "    <tr style=\"text-align: right;\">\n",
              "      <th></th>\n",
              "      <th>id</th>\n",
              "      <th>title</th>\n",
              "      <th>author</th>\n",
              "      <th>text</th>\n",
              "      <th>label</th>\n",
              "    </tr>\n",
              "  </thead>\n",
              "  <tbody>\n",
              "    <tr>\n",
              "      <th>0</th>\n",
              "      <td>0</td>\n",
              "      <td>House Dem Aide: We Didn’t Even See Comey’s Let...</td>\n",
              "      <td>Darrell Lucus</td>\n",
              "      <td>House Dem Aide: We Didn’t Even See Comey’s Let...</td>\n",
              "      <td>1</td>\n",
              "    </tr>\n",
              "    <tr>\n",
              "      <th>1</th>\n",
              "      <td>1</td>\n",
              "      <td>FLYNN: Hillary Clinton, Big Woman on Campus - ...</td>\n",
              "      <td>Daniel J. Flynn</td>\n",
              "      <td>Ever get the feeling your life circles the rou...</td>\n",
              "      <td>0</td>\n",
              "    </tr>\n",
              "    <tr>\n",
              "      <th>2</th>\n",
              "      <td>2</td>\n",
              "      <td>Why the Truth Might Get You Fired</td>\n",
              "      <td>Consortiumnews.com</td>\n",
              "      <td>Why the Truth Might Get You Fired October 29, ...</td>\n",
              "      <td>1</td>\n",
              "    </tr>\n",
              "    <tr>\n",
              "      <th>3</th>\n",
              "      <td>3</td>\n",
              "      <td>15 Civilians Killed In Single US Airstrike Hav...</td>\n",
              "      <td>Jessica Purkiss</td>\n",
              "      <td>Videos 15 Civilians Killed In Single US Airstr...</td>\n",
              "      <td>1</td>\n",
              "    </tr>\n",
              "    <tr>\n",
              "      <th>4</th>\n",
              "      <td>4</td>\n",
              "      <td>Iranian woman jailed for fictional unpublished...</td>\n",
              "      <td>Howard Portnoy</td>\n",
              "      <td>Print \\nAn Iranian woman has been sentenced to...</td>\n",
              "      <td>1</td>\n",
              "    </tr>\n",
              "  </tbody>\n",
              "</table>\n",
              "</div>"
            ],
            "text/plain": [
              "   id                                              title              author  \\\n",
              "0   0  House Dem Aide: We Didn’t Even See Comey’s Let...       Darrell Lucus   \n",
              "1   1  FLYNN: Hillary Clinton, Big Woman on Campus - ...     Daniel J. Flynn   \n",
              "2   2                  Why the Truth Might Get You Fired  Consortiumnews.com   \n",
              "3   3  15 Civilians Killed In Single US Airstrike Hav...     Jessica Purkiss   \n",
              "4   4  Iranian woman jailed for fictional unpublished...      Howard Portnoy   \n",
              "\n",
              "                                                text  label  \n",
              "0  House Dem Aide: We Didn’t Even See Comey’s Let...      1  \n",
              "1  Ever get the feeling your life circles the rou...      0  \n",
              "2  Why the Truth Might Get You Fired October 29, ...      1  \n",
              "3  Videos 15 Civilians Killed In Single US Airstr...      1  \n",
              "4  Print \\nAn Iranian woman has been sentenced to...      1  "
            ]
          },
          "execution_count": 8,
          "metadata": {},
          "output_type": "execute_result"
        }
      ],
      "source": [
        "df.head()"
      ]
    },
    {
      "cell_type": "code",
      "execution_count": 9,
      "metadata": {
        "id": "kuhG3nL9kQa-"
      },
      "outputs": [],
      "source": [
        "## Get the Independent Features\n",
        "\n",
        "X=df.drop('label',axis=1)"
      ]
    },
    {
      "cell_type": "code",
      "execution_count": 10,
      "metadata": {
        "id": "M74UMceckQa-"
      },
      "outputs": [],
      "source": [
        "## Get the Dependent features\n",
        "y=df['label']"
      ]
    },
    {
      "cell_type": "code",
      "execution_count": 11,
      "metadata": {
        "colab": {
          "base_uri": "https://localhost:8080/"
        },
        "id": "50AyPJ2_kQa_",
        "outputId": "a7c8a360-3ba8-481d-bd85-b263708f2708"
      },
      "outputs": [
        {
          "data": {
            "text/plain": [
              "(18285, 4)"
            ]
          },
          "execution_count": 11,
          "metadata": {},
          "output_type": "execute_result"
        }
      ],
      "source": [
        "X.shape"
      ]
    },
    {
      "cell_type": "code",
      "execution_count": 12,
      "metadata": {
        "colab": {
          "base_uri": "https://localhost:8080/"
        },
        "id": "t1ASsQXRkQa_",
        "outputId": "29ab25f6-b89c-48da-bc2a-928decc11167"
      },
      "outputs": [
        {
          "data": {
            "text/plain": [
              "(18285,)"
            ]
          },
          "execution_count": 12,
          "metadata": {},
          "output_type": "execute_result"
        }
      ],
      "source": [
        "y.shape"
      ]
    },
    {
      "cell_type": "code",
      "execution_count": 13,
      "metadata": {
        "id": "wu0OKMEDkQa_"
      },
      "outputs": [
        {
          "name": "stderr",
          "output_type": "stream",
          "text": [
            "c:\\Python310\\lib\\site-packages\\requests\\__init__.py:109: RequestsDependencyWarning: urllib3 (2.1.0) or chardet (None)/charset_normalizer (2.1.1) doesn't match a supported version!\n",
            "  warnings.warn(\n"
          ]
        },
        {
          "name": "stdout",
          "output_type": "stream",
          "text": [
            "WARNING:tensorflow:From c:\\Python310\\lib\\site-packages\\keras\\src\\losses.py:2976: The name tf.losses.sparse_softmax_cross_entropy is deprecated. Please use tf.compat.v1.losses.sparse_softmax_cross_entropy instead.\n",
            "\n"
          ]
        }
      ],
      "source": [
        "import tensorflow as tf"
      ]
    },
    {
      "cell_type": "code",
      "execution_count": 14,
      "metadata": {
        "colab": {
          "base_uri": "https://localhost:8080/",
          "height": 35
        },
        "id": "0hclyo2LkQbA",
        "outputId": "933a2c7c-a960-45da-a069-854e08ec87d1"
      },
      "outputs": [
        {
          "data": {
            "text/plain": [
              "'2.15.0'"
            ]
          },
          "execution_count": 14,
          "metadata": {},
          "output_type": "execute_result"
        }
      ],
      "source": [
        "tf.__version__"
      ]
    },
    {
      "cell_type": "code",
      "execution_count": 15,
      "metadata": {
        "id": "s_Hrmau7kQbA"
      },
      "outputs": [],
      "source": [
        "from tensorflow.keras.layers import Embedding\n",
        "from tensorflow.keras.preprocessing.sequence import pad_sequences\n",
        "from tensorflow.keras.models import Sequential\n",
        "from tensorflow.keras.preprocessing.text import one_hot\n",
        "from tensorflow.keras.layers import LSTM\n",
        "from tensorflow.keras.layers import Dense"
      ]
    },
    {
      "cell_type": "code",
      "execution_count": 16,
      "metadata": {
        "id": "iSkB8tbkkQbA"
      },
      "outputs": [],
      "source": [
        "voc_size=5000"
      ]
    },
    {
      "cell_type": "markdown",
      "metadata": {
        "id": "0gCnp0hzkQbB"
      },
      "source": [
        "### Onehot Representation"
      ]
    },
    {
      "cell_type": "code",
      "execution_count": 17,
      "metadata": {
        "id": "1I2ISQAKkQbB"
      },
      "outputs": [],
      "source": [
        "messages=X.copy()"
      ]
    },
    {
      "cell_type": "code",
      "execution_count": 18,
      "metadata": {
        "colab": {
          "base_uri": "https://localhost:8080/",
          "height": 35
        },
        "id": "hCGzPo3dkQbB",
        "outputId": "f5f74174-f975-4725-928b-b41fa754765e"
      },
      "outputs": [
        {
          "data": {
            "text/plain": [
              "'FLYNN: Hillary Clinton, Big Woman on Campus - Breitbart'"
            ]
          },
          "execution_count": 18,
          "metadata": {},
          "output_type": "execute_result"
        }
      ],
      "source": [
        "messages['title'][1]"
      ]
    },
    {
      "cell_type": "code",
      "execution_count": 48,
      "metadata": {
        "colab": {
          "base_uri": "https://localhost:8080/",
          "height": 641
        },
        "id": "PKxH492wsCsp",
        "outputId": "249ab4f6-00ad-4b9d-ed81-6a1df570ef6f"
      },
      "outputs": [
        {
          "data": {
            "text/plain": [
              "(18285, 4)"
            ]
          },
          "execution_count": 48,
          "metadata": {},
          "output_type": "execute_result"
        }
      ],
      "source": [
        "messages.shape"
      ]
    },
    {
      "cell_type": "code",
      "execution_count": 20,
      "metadata": {
        "id": "lmLnVGtvkQbB"
      },
      "outputs": [],
      "source": [
        "#messages.reset_index(inplace=True)"
      ]
    },
    {
      "cell_type": "code",
      "execution_count": 21,
      "metadata": {
        "colab": {
          "base_uri": "https://localhost:8080/",
          "height": 641
        },
        "id": "uQsYt9CHsHmU",
        "outputId": "667e86c2-747d-48f2-fbb9-e136d3e49140"
      },
      "outputs": [
        {
          "data": {
            "text/html": [
              "<div>\n",
              "<style scoped>\n",
              "    .dataframe tbody tr th:only-of-type {\n",
              "        vertical-align: middle;\n",
              "    }\n",
              "\n",
              "    .dataframe tbody tr th {\n",
              "        vertical-align: top;\n",
              "    }\n",
              "\n",
              "    .dataframe thead th {\n",
              "        text-align: right;\n",
              "    }\n",
              "</style>\n",
              "<table border=\"1\" class=\"dataframe\">\n",
              "  <thead>\n",
              "    <tr style=\"text-align: right;\">\n",
              "      <th></th>\n",
              "      <th>id</th>\n",
              "      <th>title</th>\n",
              "      <th>author</th>\n",
              "      <th>text</th>\n",
              "    </tr>\n",
              "  </thead>\n",
              "  <tbody>\n",
              "    <tr>\n",
              "      <th>0</th>\n",
              "      <td>0</td>\n",
              "      <td>House Dem Aide: We Didn’t Even See Comey’s Let...</td>\n",
              "      <td>Darrell Lucus</td>\n",
              "      <td>House Dem Aide: We Didn’t Even See Comey’s Let...</td>\n",
              "    </tr>\n",
              "    <tr>\n",
              "      <th>1</th>\n",
              "      <td>1</td>\n",
              "      <td>FLYNN: Hillary Clinton, Big Woman on Campus - ...</td>\n",
              "      <td>Daniel J. Flynn</td>\n",
              "      <td>Ever get the feeling your life circles the rou...</td>\n",
              "    </tr>\n",
              "    <tr>\n",
              "      <th>2</th>\n",
              "      <td>2</td>\n",
              "      <td>Why the Truth Might Get You Fired</td>\n",
              "      <td>Consortiumnews.com</td>\n",
              "      <td>Why the Truth Might Get You Fired October 29, ...</td>\n",
              "    </tr>\n",
              "    <tr>\n",
              "      <th>3</th>\n",
              "      <td>3</td>\n",
              "      <td>15 Civilians Killed In Single US Airstrike Hav...</td>\n",
              "      <td>Jessica Purkiss</td>\n",
              "      <td>Videos 15 Civilians Killed In Single US Airstr...</td>\n",
              "    </tr>\n",
              "    <tr>\n",
              "      <th>4</th>\n",
              "      <td>4</td>\n",
              "      <td>Iranian woman jailed for fictional unpublished...</td>\n",
              "      <td>Howard Portnoy</td>\n",
              "      <td>Print \\nAn Iranian woman has been sentenced to...</td>\n",
              "    </tr>\n",
              "    <tr>\n",
              "      <th>...</th>\n",
              "      <td>...</td>\n",
              "      <td>...</td>\n",
              "      <td>...</td>\n",
              "      <td>...</td>\n",
              "    </tr>\n",
              "    <tr>\n",
              "      <th>20795</th>\n",
              "      <td>20795</td>\n",
              "      <td>Rapper T.I.: Trump a ’Poster Child For White S...</td>\n",
              "      <td>Jerome Hudson</td>\n",
              "      <td>Rapper T. I. unloaded on black celebrities who...</td>\n",
              "    </tr>\n",
              "    <tr>\n",
              "      <th>20796</th>\n",
              "      <td>20796</td>\n",
              "      <td>N.F.L. Playoffs: Schedule, Matchups and Odds -...</td>\n",
              "      <td>Benjamin Hoffman</td>\n",
              "      <td>When the Green Bay Packers lost to the Washing...</td>\n",
              "    </tr>\n",
              "    <tr>\n",
              "      <th>20797</th>\n",
              "      <td>20797</td>\n",
              "      <td>Macy’s Is Said to Receive Takeover Approach by...</td>\n",
              "      <td>Michael J. de la Merced and Rachel Abrams</td>\n",
              "      <td>The Macy’s of today grew from the union of sev...</td>\n",
              "    </tr>\n",
              "    <tr>\n",
              "      <th>20798</th>\n",
              "      <td>20798</td>\n",
              "      <td>NATO, Russia To Hold Parallel Exercises In Bal...</td>\n",
              "      <td>Alex Ansary</td>\n",
              "      <td>NATO, Russia To Hold Parallel Exercises In Bal...</td>\n",
              "    </tr>\n",
              "    <tr>\n",
              "      <th>20799</th>\n",
              "      <td>20799</td>\n",
              "      <td>What Keeps the F-35 Alive</td>\n",
              "      <td>David Swanson</td>\n",
              "      <td>David Swanson is an author, activist, journa...</td>\n",
              "    </tr>\n",
              "  </tbody>\n",
              "</table>\n",
              "<p>18285 rows × 4 columns</p>\n",
              "</div>"
            ],
            "text/plain": [
              "          id                                              title  \\\n",
              "0          0  House Dem Aide: We Didn’t Even See Comey’s Let...   \n",
              "1          1  FLYNN: Hillary Clinton, Big Woman on Campus - ...   \n",
              "2          2                  Why the Truth Might Get You Fired   \n",
              "3          3  15 Civilians Killed In Single US Airstrike Hav...   \n",
              "4          4  Iranian woman jailed for fictional unpublished...   \n",
              "...      ...                                                ...   \n",
              "20795  20795  Rapper T.I.: Trump a ’Poster Child For White S...   \n",
              "20796  20796  N.F.L. Playoffs: Schedule, Matchups and Odds -...   \n",
              "20797  20797  Macy’s Is Said to Receive Takeover Approach by...   \n",
              "20798  20798  NATO, Russia To Hold Parallel Exercises In Bal...   \n",
              "20799  20799                          What Keeps the F-35 Alive   \n",
              "\n",
              "                                          author  \\\n",
              "0                                  Darrell Lucus   \n",
              "1                                Daniel J. Flynn   \n",
              "2                             Consortiumnews.com   \n",
              "3                                Jessica Purkiss   \n",
              "4                                 Howard Portnoy   \n",
              "...                                          ...   \n",
              "20795                              Jerome Hudson   \n",
              "20796                           Benjamin Hoffman   \n",
              "20797  Michael J. de la Merced and Rachel Abrams   \n",
              "20798                                Alex Ansary   \n",
              "20799                              David Swanson   \n",
              "\n",
              "                                                    text  \n",
              "0      House Dem Aide: We Didn’t Even See Comey’s Let...  \n",
              "1      Ever get the feeling your life circles the rou...  \n",
              "2      Why the Truth Might Get You Fired October 29, ...  \n",
              "3      Videos 15 Civilians Killed In Single US Airstr...  \n",
              "4      Print \\nAn Iranian woman has been sentenced to...  \n",
              "...                                                  ...  \n",
              "20795  Rapper T. I. unloaded on black celebrities who...  \n",
              "20796  When the Green Bay Packers lost to the Washing...  \n",
              "20797  The Macy’s of today grew from the union of sev...  \n",
              "20798  NATO, Russia To Hold Parallel Exercises In Bal...  \n",
              "20799    David Swanson is an author, activist, journa...  \n",
              "\n",
              "[18285 rows x 4 columns]"
            ]
          },
          "execution_count": 21,
          "metadata": {},
          "output_type": "execute_result"
        }
      ],
      "source": [
        "messages"
      ]
    },
    {
      "cell_type": "code",
      "execution_count": 22,
      "metadata": {
        "id": "WOYLZSrdkQbB"
      },
      "outputs": [],
      "source": [
        "import nltk\n",
        "import re\n",
        "from nltk.corpus import stopwords"
      ]
    },
    {
      "cell_type": "code",
      "execution_count": 23,
      "metadata": {
        "colab": {
          "base_uri": "https://localhost:8080/"
        },
        "id": "5GGpiJ0RkQbC",
        "outputId": "b51faaf3-e6c8-40af-e453-3a1f628cd3bb"
      },
      "outputs": [
        {
          "name": "stderr",
          "output_type": "stream",
          "text": [
            "[nltk_data] Error loading stopwords: <urlopen error [WinError 10060] A\n",
            "[nltk_data]     connection attempt failed because the connected party\n",
            "[nltk_data]     did not properly respond after a period of time, or\n",
            "[nltk_data]     established connection failed because connected host\n",
            "[nltk_data]     has failed to respond>\n"
          ]
        },
        {
          "data": {
            "text/plain": [
              "False"
            ]
          },
          "execution_count": 23,
          "metadata": {},
          "output_type": "execute_result"
        }
      ],
      "source": [
        "nltk.download('stopwords')"
      ]
    },
    {
      "cell_type": "code",
      "execution_count": 63,
      "metadata": {},
      "outputs": [],
      "source": [
        "from nltk.stem.porter import PorterStemmer ##stemming purpose\n",
        "ps = PorterStemmer()\n",
        "corpus = []"
      ]
    },
    {
      "cell_type": "code",
      "execution_count": 62,
      "metadata": {},
      "outputs": [
        {
          "data": {
            "text/plain": [
              "(18285, 4)"
            ]
          },
          "execution_count": 62,
          "metadata": {},
          "output_type": "execute_result"
        }
      ],
      "source": [
        "messages.dropna()\n",
        "messages.shape"
      ]
    },
    {
      "cell_type": "code",
      "execution_count": 64,
      "metadata": {
        "id": "y1-M3GFDkQbC"
      },
      "outputs": [],
      "source": [
        "\n",
        "for i in range(0, len(messages)):\n",
        "    review = re.sub('[^a-zA-Z]', ' ', str(messages['title'].iloc[i]))\n",
        "    review = review.lower()\n",
        "    review = review.split()\n",
        "    \n",
        "    review = [ps.stem(word) for word in review if not word in stopwords.words('english')]\n",
        "    review = ' '.join(review)\n",
        "    corpus.append(review)\n"
      ]
    },
    {
      "cell_type": "code",
      "execution_count": 65,
      "metadata": {
        "colab": {
          "base_uri": "https://localhost:8080/"
        },
        "id": "aictGGpskQbC",
        "outputId": "0d1684a6-41cd-4077-f8eb-0ddd80daffec"
      },
      "outputs": [
        {
          "data": {
            "text/plain": [
              "18285"
            ]
          },
          "execution_count": 65,
          "metadata": {},
          "output_type": "execute_result"
        }
      ],
      "source": [
        "\n",
        "len(corpus)"
      ]
    },
    {
      "cell_type": "code",
      "execution_count": 66,
      "metadata": {
        "colab": {
          "base_uri": "https://localhost:8080/",
          "height": 35
        },
        "id": "QaOF9lkNtmDx",
        "outputId": "d69d9cd7-ddee-44a6-c37f-e78e7dfef5a7"
      },
      "outputs": [
        {
          "data": {
            "text/plain": [
              "'flynn hillari clinton big woman campu breitbart'"
            ]
          },
          "execution_count": 66,
          "metadata": {},
          "output_type": "execute_result"
        }
      ],
      "source": [
        "corpus[1]"
      ]
    },
    {
      "cell_type": "code",
      "execution_count": 67,
      "metadata": {
        "colab": {
          "base_uri": "https://localhost:8080/"
        },
        "id": "IX_kw5HSkQbC",
        "outputId": "2be49847-10f0-439f-f051-237f1e67ef6b"
      },
      "outputs": [
        {
          "data": {
            "text/plain": [
              "[[4542, 3763, 1737, 2814, 2112, 2191, 4695, 903, 14, 2995],\n",
              " [103, 1680, 2677, 373, 238, 3771, 3640],\n",
              " [2391, 1568, 1125, 2914],\n",
              " [3194, 3434, 660, 2117, 4345, 2817],\n",
              " [4006, 238, 4687, 4981, 2455, 2372, 238, 99, 3213, 3808],\n",
              " [792,\n",
              "  437,\n",
              "  3991,\n",
              "  2201,\n",
              "  1015,\n",
              "  2797,\n",
              "  4592,\n",
              "  4745,\n",
              "  1671,\n",
              "  3570,\n",
              "  3267,\n",
              "  4602,\n",
              "  2516,\n",
              "  690,\n",
              "  3640],\n",
              " [4187, 2302, 3308, 1559, 3952, 1931, 3089, 2030, 4919, 1221, 195],\n",
              " [3580, 1057, 1208, 2371, 3284, 53, 2797, 2226, 4919, 1221, 195],\n",
              " [115, 154, 413, 2949, 2757, 4179, 4808, 792, 2797, 21],\n",
              " [1052, 4184, 2178, 744, 1229, 2166, 241, 2456],\n",
              " [2983, 2281, 4920, 4557, 32, 3126, 1930, 2267, 3926, 3044, 3399],\n",
              " [2117, 1702, 2112, 4179, 2797, 3284],\n",
              " [729, 3017, 719, 3123, 571, 3563, 4497, 1249, 59],\n",
              " [456, 1341, 2500, 2377, 3294, 2903, 1789, 4919, 1221, 195],\n",
              " [4305, 1700, 1509, 2256, 4512, 4919, 1221, 195],\n",
              " [3841, 1376, 4588, 831, 548, 1053, 3040, 3625, 4720, 4688],\n",
              " [4207, 1550, 1680],\n",
              " [839, 1472, 3682, 1856, 2797, 1925, 4507, 3640],\n",
              " [3354, 3374, 2677, 1615, 304, 1176, 1794, 3451, 2372],\n",
              " [3750, 3834, 2797, 4565, 4807, 3640],\n",
              " [1085, 916, 3924, 4376, 2999, 1794, 4089, 3589, 4767, 4919, 1221, 195],\n",
              " [3591, 1716, 1918, 3512, 2239, 2112, 4733],\n",
              " [2516, 2642, 4356, 4762, 4353, 4025, 4554, 2862, 2361, 1749, 2205, 3640],\n",
              " [863, 1680, 1893, 2864, 1502, 1624, 1483, 857],\n",
              " [955, 558, 1403, 1002, 3848, 2701, 1615, 748, 921, 4919, 1221, 195],\n",
              " [1680, 2677, 206, 4764, 4919, 1221, 195],\n",
              " [839, 1472, 3682, 2824, 2394, 3342, 1002, 3640],\n",
              " [137, 464, 998, 535, 343, 4919, 1221, 195],\n",
              " [4865, 3313, 3576, 3440, 774, 2003, 4162, 1535, 179, 4919, 1221, 195],\n",
              " [3082, 4606, 1054, 2862, 3719, 3175, 3456, 3946, 1782, 4919, 1221, 195],\n",
              " [3284, 803, 2239, 3265, 3070, 4583, 4919, 1221, 195],\n",
              " [2437, 80, 3796, 4279, 1955],\n",
              " [40, 4480, 1431, 2809],\n",
              " [4895, 3813, 3611, 722, 4476, 4566, 1518, 3640],\n",
              " [3581, 1392, 3581, 801, 3751, 3428, 4919, 1221, 195],\n",
              " [3085, 1493, 4998, 3790, 3845, 1270, 2509, 3640],\n",
              " [1797, 2600, 597, 3796],\n",
              " [4813, 2611, 3227, 1106, 3591, 2993, 4919, 1221, 195],\n",
              " [1089, 2857, 1166, 198, 115, 4474, 3202, 3917, 3640],\n",
              " [4927, 2792, 961, 4668, 4589, 1862, 1403, 4919, 1221, 195],\n",
              " [3578, 741, 4796, 2190, 4139, 2459, 4304, 4800, 690],\n",
              " [4506, 474, 4368, 4819, 4031, 4919, 2850, 4919, 1221, 195],\n",
              " [1517, 4353, 4652, 350, 2026, 3606, 1038, 4738, 3241, 86, 4326, 3640],\n",
              " [3644, 1770, 524],\n",
              " [1654, 3276, 1901, 1974, 2831, 2887, 1268, 4246, 2212, 3640],\n",
              " [2797, 2809, 3644, 2976, 1558, 4601],\n",
              " [3181, 4698, 1069, 821, 3309, 2105, 2894, 4965, 357, 1631, 690],\n",
              " [227, 3774, 2642, 3722, 4223],\n",
              " [1856, 2797, 3308, 2809, 3937, 3635, 2117, 1925, 73],\n",
              " [1363, 1637, 2161, 4160, 3834, 4919, 1221, 195],\n",
              " [456, 1397, 2949, 4747, 119, 4460, 4919, 1221, 195],\n",
              " [1246, 3434, 3905, 2378, 2809],\n",
              " [2669, 2544, 401, 99, 3391, 4760, 1601, 2381, 4919, 1221, 195],\n",
              " [2444, 3070, 2797, 3585, 379, 4112, 1111, 3598, 4215],\n",
              " [4223, 1327, 3401, 849, 2321, 1444, 4748, 1978, 2719, 4919, 1221, 195],\n",
              " [1431, 1623, 2642, 4356, 2901, 2639, 2949, 1431, 3240],\n",
              " [2210, 3294, 3164, 3133, 2252, 925, 4419, 2142, 4476, 3739],\n",
              " [2677, 366, 2664, 4207, 210, 811, 3395, 1680, 2677, 2576],\n",
              " [3604, 4689, 3070, 1085, 857, 4919, 1221, 195],\n",
              " [4662, 2062, 3987, 3563, 2797, 1492, 1925, 449],\n",
              " [3515, 274, 3656, 2239],\n",
              " [3655, 2007, 4353, 2054, 2635],\n",
              " [4624, 3905, 238, 3250, 4919, 1221, 195],\n",
              " [3248, 2727, 2437, 4115, 928, 4919, 1184, 4919, 1221, 195],\n",
              " [3578, 1227, 21, 115, 3181, 1059, 1617, 3202, 4919, 1221, 195],\n",
              " [4895, 3537, 3048, 393, 2397, 4919, 1221, 195],\n",
              " [957, 3976, 1078, 4139, 115, 3937, 3966, 1002],\n",
              " [1431, 1590, 2857, 4485, 981, 3340, 4919, 1221, 195],\n",
              " [1832, 3473, 126, 2637, 2797, 4198, 4001, 3640],\n",
              " [3932, 3423, 4543, 1431, 3089, 3251, 3180, 2814, 1389, 4919, 1221, 195],\n",
              " [774, 1553, 40, 350, 543, 2771, 372, 393, 903],\n",
              " [4271, 2026, 440, 1680],\n",
              " [895, 1934, 393, 1069, 4539, 3509, 1610, 1622, 466],\n",
              " [2797, 1507, 1465, 2448, 4919, 1221, 195],\n",
              " [4972, 2818, 1984, 4877, 622, 4495, 918, 1678, 4919, 1221, 195],\n",
              " [2029],\n",
              " [2797, 1469, 857, 3661, 4089, 4762, 4800, 4919, 1221, 195],\n",
              " [1403, 3970, 2635, 3393, 1422, 2677, 857, 4833, 2797, 4689, 1838, 2378],\n",
              " [4981, 4193, 297, 4168, 4919, 1221, 195],\n",
              " [2053, 294, 1171, 3515, 597, 3991, 2, 4919, 1221, 195],\n",
              " [4159, 3551, 4659, 713, 4329, 4780, 501, 3168, 2028, 3546],\n",
              " [3982, 77, 2649, 803, 3756, 1005, 2315, 1130, 4919, 1221, 195],\n",
              " [1395,\n",
              "  1975,\n",
              "  730,\n",
              "  2335,\n",
              "  2293,\n",
              "  1856,\n",
              "  2797,\n",
              "  4895,\n",
              "  1249,\n",
              "  3282,\n",
              "  1502,\n",
              "  2513,\n",
              "  2021,\n",
              "  2209,\n",
              "  2531,\n",
              "  2276],\n",
              " [3640, 1002, 3656, 2797, 1285, 3640],\n",
              " [1658, 4542, 1276, 1068, 658, 115, 2198, 3954],\n",
              " [272, 2806, 4326, 4895, 2809, 2276, 3640],\n",
              " [350, 1009, 3837, 2378, 2014, 3053, 3924, 4919, 1221, 195],\n",
              " [1727, 1431, 4484, 2624, 3631, 1208, 4852, 4919, 1221, 195],\n",
              " [4610, 744, 3280, 1716, 1578, 4231, 4598],\n",
              " [1794, 2887, 3638, 2431, 4814, 1087, 4919, 1221, 195],\n",
              " [1680, 2677, 4977, 831, 1502, 1554, 836, 1856, 2797, 4919, 1221, 195],\n",
              " [2797, 2277, 3003, 2635, 2212, 1436, 2523, 809],\n",
              " [2397, 4519, 2983, 719, 3845],\n",
              " [3790, 551, 2447, 1821, 3625, 4720, 4688],\n",
              " [917, 4356, 3811, 73, 1984, 300, 66, 3811, 73, 1984, 3640],\n",
              " [1035, 373, 1909, 1825, 148, 4865, 4602, 3832, 3640],\n",
              " [2444, 4739, 2053, 848, 814, 4923, 4533, 4883, 4257, 845, 3640],\n",
              " [1918, 340, 1623, 1176, 599, 4278, 4516, 1029, 373, 1493, 4919, 1221, 195],\n",
              " [153, 3825, 3452, 2022, 3997, 2797, 4937, 2225, 2832, 491],\n",
              " [3978, 2797, 2165, 3231, 4415, 2026, 1601, 4720, 1449, 754, 4666, 991, 2050],\n",
              " [4483, 1162, 3199, 1054, 1947, 330, 3317, 4986, 4919, 1221, 195],\n",
              " [2677, 366, 4919, 2092, 2264, 2805, 1702, 1005, 2378, 1680, 1588, 3291],\n",
              " [741, 3647, 4883, 568, 318, 3714, 1462, 1005, 2986, 3067, 2279, 3640],\n",
              " [3370, 1797, 1863, 2513, 4159, 2876, 1042, 3045, 3890, 4919, 1221, 195],\n",
              " [963, 757, 4089, 3626, 3971, 380, 4919, 1221, 195],\n",
              " [4223, 4659, 3515, 3620, 2698, 2929, 4919, 1221, 195],\n",
              " [2797, 3043, 2731, 4130, 3126, 2984, 1702, 3987, 4919, 1221, 195],\n",
              " [4689, 667, 4476, 2576, 4340, 198, 115, 1680, 2576],\n",
              " [4455, 4159, 4542, 4919, 1535, 4906, 4193, 3827, 202, 3202, 4914],\n",
              " [1290, 1589, 4962, 4266, 3206, 1290, 482, 4919, 1221, 195],\n",
              " [225, 585, 4709, 4542, 185, 3546, 3338],\n",
              " [2810, 885, 3164, 1436, 2117, 2809, 3538, 1594, 1680, 3308],\n",
              " [2328, 3262, 589, 3274, 932, 1234, 4919, 1221, 195],\n",
              " [1550, 1632, 959, 3568, 1940, 261, 2839, 4919, 1221, 195],\n",
              " [741, 515, 823, 1658, 4542, 4464, 1856, 2797, 3640],\n",
              " [87, 2531, 1862, 2797, 3401, 2324, 4800, 3640],\n",
              " [4762, 4206, 2544, 4492, 3409],\n",
              " [3368, 2797, 1002, 3845, 2761, 4919, 1221, 195],\n",
              " [1856, 2797, 4031, 1208, 2852, 4443, 2513, 3659, 4919, 1221, 195],\n",
              " [2441, 4895, 3659, 3832, 2239, 2029, 375, 3473, 3382, 3640],\n",
              " [1054, 3372, 865, 3860],\n",
              " [1702, 3423, 4543, 2544, 1797, 3139, 4919, 1221, 195],\n",
              " [1177, 1829, 3187, 3374, 3168, 1688, 3533, 4415, 1039],\n",
              " [1431, 1727, 1173, 1623, 201, 3433, 298, 1606, 4507, 4089],\n",
              " [2797, 954, 3973, 230, 1462, 4181, 1794, 2806, 1545, 1789, 690],\n",
              " [4207, 3294, 553, 3662, 1680, 2677, 2576, 2026, 2744],\n",
              " [4516, 1794, 2901, 3434, 2142, 2191, 3340, 3883, 4101],\n",
              " [2635, 1601, 3973, 2086, 1020, 1389, 4366, 2797, 1727],\n",
              " [3515, 1228, 3866, 1453, 1599, 3237],\n",
              " [2876, 3434, 4330, 3158, 2552, 3948, 4523, 2639],\n",
              " [535, 2725, 3527, 1510, 2224, 1918, 4524, 340, 3912, 3424, 1472],\n",
              " [2022, 1069, 4393, 655, 76, 2402, 3585, 267, 861, 2101],\n",
              " [4511, 1983, 4476, 4231, 1005, 1590, 1610, 1227, 2170, 2378, 2745],\n",
              " [4376, 4598, 1469, 3888, 4919, 1221, 195],\n",
              " [2810, 2672, 917, 4941, 2797, 3218, 31, 4919, 1221, 195],\n",
              " [537, 4116, 506, 3067, 1409, 1208, 2384, 4130, 4919, 1221, 195],\n",
              " [3977, 446],\n",
              " [3342, 208, 1658, 4542, 1156, 4303, 2562, 4126, 4919, 1221, 195],\n",
              " [2733, 4946, 2914, 2637, 4557, 4159, 2797, 4751, 2995, 3640],\n",
              " [2677, 4705],\n",
              " [4235, 488, 674, 28, 2264, 69, 655, 4919, 1221, 195],\n",
              " [2264, 2921, 2544, 3452, 1137],\n",
              " [4919, 1654, 4179, 2750, 3487, 840, 3370, 4370, 1435],\n",
              " [139, 2344, 1173, 2799],\n",
              " [1069, 3309, 4654, 1584, 2567, 3659, 2797],\n",
              " [3348, 2505, 3044, 3892, 1728, 1069, 2089, 4289, 3456, 4844, 4919, 1221, 195],\n",
              " [1964, 1509, 4079, 1505, 2053, 4738, 317, 4919, 1221, 195],\n",
              " [3800, 3118, 1069, 1622, 4919, 1221, 195],\n",
              " [414, 680, 3033, 3085, 2319, 4591, 4788, 3640],\n",
              " [3103, 56, 4483, 2468, 2315, 2422, 1794, 1984, 3739, 4523],\n",
              " [774, 2474, 3790, 1026, 1435, 2053, 3640],\n",
              " [4413, 1789, 4077, 4608, 4336, 1505],\n",
              " [2797, 2852, 1961, 524, 3815, 3342, 7, 543, 1984],\n",
              " [2778,\n",
              "  410,\n",
              "  3398,\n",
              "  3866,\n",
              "  3722,\n",
              "  3073,\n",
              "  1630,\n",
              "  4474,\n",
              "  3202,\n",
              "  3025,\n",
              "  395,\n",
              "  3987,\n",
              "  1217,\n",
              "  4343,\n",
              "  1856,\n",
              "  2797,\n",
              "  3640],\n",
              " [1825, 741, 4100, 2531, 1904, 1856, 2797, 2906, 4919, 1221, 195],\n",
              " [40, 4695, 2797, 2806, 3717, 3905],\n",
              " [3532, 1359, 4747, 4428, 1585, 3580, 1680, 1026, 2386, 3303],\n",
              " [1272, 3634, 2169, 1505, 1612, 543, 799, 4919, 1221, 195],\n",
              " [3905, 106, 106, 1721, 4919, 1221, 195],\n",
              " [1121, 3987, 757, 3090, 3759, 3757, 4492, 2636, 4919, 1221, 195],\n",
              " [4730, 719, 3240, 3354, 3340, 2796, 2386, 1431, 3284, 3356, 4919, 1221, 195],\n",
              " [3658, 4583, 2914, 4031, 1568, 4096, 162],\n",
              " [3025, 347, 3350, 3025, 4919, 1221, 195],\n",
              " [3551, 1146, 2386, 4542, 4800, 2809, 2797, 4919, 1221, 195],\n",
              " [1591, 1431, 4879, 4160, 1685, 2799, 3546, 2914],\n",
              " [4891,\n",
              "  3152,\n",
              "  1502,\n",
              "  1343,\n",
              "  1125,\n",
              "  2123,\n",
              "  437,\n",
              "  4235,\n",
              "  4542,\n",
              "  1984,\n",
              "  2172,\n",
              "  1125,\n",
              "  3237,\n",
              "  3925,\n",
              "  132,\n",
              "  4009,\n",
              "  2903],\n",
              " [2975, 4160, 1502, 537, 4394, 2182, 3580, 1601, 73, 1909, 2182],\n",
              " [1997, 2797, 174, 2710, 4919, 1221, 195],\n",
              " [4207, 3739, 2191, 4513, 2805, 1203, 2677],\n",
              " [1020, 4828, 4842, 3182, 3718, 582, 2639],\n",
              " [3213, 4623, 4356, 4084],\n",
              " [3532, 3154, 2457, 3561, 1901, 1820, 823, 3434, 3786],\n",
              " [1856, 2797, 3280, 1493, 1168, 791, 2809, 4699, 4919, 1221, 195],\n",
              " [3486, 1368, 1893, 1460, 3765, 4906, 2534, 3552, 4366, 4919, 1221, 195],\n",
              " [3094, 3171, 834, 4835, 709, 3102, 2242, 3658],\n",
              " [1856, 2797, 2832, 2276, 4919, 1221, 195],\n",
              " [858, 4919, 4104, 1680, 3973, 366, 1863, 3811, 2117, 1502, 1695, 2004, 3269],\n",
              " [2516,\n",
              "  2852,\n",
              "  3871,\n",
              "  3568,\n",
              "  3742,\n",
              "  1682,\n",
              "  1250,\n",
              "  4923,\n",
              "  3987,\n",
              "  271,\n",
              "  4680,\n",
              "  1952,\n",
              "  744,\n",
              "  4909,\n",
              "  809],\n",
              " [2797, 1862, 2635, 2898, 3025, 3043, 582, 3640],\n",
              " [941, 1221, 4278, 4516],\n",
              " [568, 393, 3578, 4126, 4181, 188, 4919, 1221, 195],\n",
              " [1716, 1208, 3888, 1053, 778, 4704, 450],\n",
              " [2797, 2639, 2397, 1314, 3357, 3532, 4919, 1221, 195],\n",
              " [2677, 1626, 3893, 3051, 2576, 1680, 1601, 1147],\n",
              " [1021, 4797, 4027, 4813, 1333, 3202, 3640],\n",
              " [1856, 2797, 3611, 3168, 1974],\n",
              " [546, 865, 14, 1366, 785, 1377, 4674, 4247, 2676],\n",
              " [4249, 2397, 3251, 10, 1011, 4792, 656, 3962, 4919, 1221, 195],\n",
              " [2516, 2978, 3987, 1918, 340, 2201, 3161, 3580, 1403, 1002],\n",
              " [3978, 2219, 115, 3263, 883, 209, 1503, 4293, 2378, 4919, 1221, 195],\n",
              " [998, 3659, 865, 4811, 3707, 3757, 2128, 1665, 4919, 1221, 195],\n",
              " [3567, 1353, 4496, 3751, 1002, 2797],\n",
              " [2700,\n",
              "  2975,\n",
              "  1789,\n",
              "  1535,\n",
              "  4906,\n",
              "  3080,\n",
              "  1469,\n",
              "  106,\n",
              "  4512,\n",
              "  1236,\n",
              "  1125,\n",
              "  4720,\n",
              "  3226,\n",
              "  4557],\n",
              " [730, 1431, 2755, 1339, 1502, 4919, 1221, 195],\n",
              " [889, 4560, 1227, 4096, 4162, 1506, 2639, 4919, 1221, 195],\n",
              " [1620, 4895, 2831, 66, 3877, 865, 2797],\n",
              " [537, 458, 3456, 3067, 3757, 114, 4919, 1221, 195],\n",
              " [3284, 4844, 2639, 3110, 2107, 3987, 4516, 4198],\n",
              " [4610, 2637, 839, 4076, 2831, 1204, 4943, 4919, 1221, 195],\n",
              " [537, 3456, 4864, 506, 3067, 4816, 2946, 182, 4919, 1221, 195],\n",
              " [4277, 2693, 1727, 280, 161, 3304, 838, 4277, 3541, 280, 161, 998, 2605, 183],\n",
              " [2797, 4038, 1002, 3563, 4919, 3428, 3867, 4833, 4919, 1221, 195],\n",
              " [1431, 445, 4485, 4442, 3398, 535, 4919, 1221, 195],\n",
              " [1431, 850, 3538, 4841, 3346, 2639, 89, 4919, 1221, 2468, 4865],\n",
              " [3717, 3006, 3866, 3396, 1910],\n",
              " [2635, 1918, 340, 2116, 4970, 1493, 4244, 2852, 1436],\n",
              " [697, 3537, 3757, 916, 3772, 4919, 1221, 195],\n",
              " [4604,\n",
              "  861,\n",
              "  2101,\n",
              "  1048,\n",
              "  2273,\n",
              "  4891,\n",
              "  2273,\n",
              "  2448,\n",
              "  2101,\n",
              "  2797,\n",
              "  743,\n",
              "  2201,\n",
              "  1774,\n",
              "  1925,\n",
              "  2735],\n",
              " [4665, 2397, 4305, 1700, 1509, 3241, 2907, 4919, 1221, 195],\n",
              " [2268, 4665, 3652, 2112, 3682, 3342, 1002, 4801, 3640],\n",
              " [49, 27, 565, 4919, 1472, 2797, 1130, 4919, 1221, 195],\n",
              " [3125, 70, 2105, 3675, 4483, 3751, 3578, 3640],\n",
              " [49, 3701, 2637, 1377, 3728, 4941, 4919, 1221, 195],\n",
              " [1535, 681],\n",
              " [797, 4936, 1431, 4286, 2155, 4606, 4510, 3752, 1474, 4919, 1221, 195],\n",
              " [2797, 4412, 3811, 648, 1145, 2524, 4962, 4919, 1221, 195],\n",
              " [3314, 1794, 1549, 3359, 4419, 719, 535, 1918, 2986, 3640],\n",
              " [2642, 4356, 4762, 4198, 4089, 890, 328, 925, 4523, 3739, 2468],\n",
              " [3125, 2635, 865, 3456, 4068, 3905, 373, 1444, 106, 3640],\n",
              " [535, 4449, 3357, 1276, 3308, 4730, 4017, 627],\n",
              " [845],\n",
              " [1559, 1272, 3861, 4833, 3656, 1078, 4529, 4919, 1221, 195],\n",
              " [2797, 2096, 1931, 2890, 4476, 4231, 4919, 1221, 195],\n",
              " [1058, 189, 1322, 1719, 2809],\n",
              " [3304, 1019, 1606, 2832, 2045, 1727, 4039, 2495, 878, 2832, 2045, 1727, 4039],\n",
              " [4877, 4542, 10, 2892, 1759, 4919, 1221, 195],\n",
              " [4325, 1015, 3239, 1856, 2797, 4919, 2903, 2755, 4919, 1221, 195],\n",
              " [1975, 730, 3826, 4762, 1856, 2797, 3022, 1486, 4919, 1221, 195],\n",
              " [4477, 936, 3357, 439, 3570, 700, 4919, 1221, 195],\n",
              " [828, 4739, 1431, 4542, 2557, 115, 4800],\n",
              " [4271, 443, 3370, 4207, 1756, 4606],\n",
              " [660, 3129, 2365, 4412, 3796, 1005, 607, 2457, 195, 4919, 1221, 195],\n",
              " [3296, 3459, 1753, 1, 4919, 1566, 1474, 3640],\n",
              " [2797, 2379, 4005, 471, 1568, 1909, 4811, 4467, 375, 4919, 1221, 195],\n",
              " [2084, 1893, 2690, 420, 1021, 3978, 2397, 1130, 423, 3159, 768, 1594, 3640],\n",
              " [1621, 2872, 3616, 2198, 1620, 1189, 4919, 1221, 195],\n",
              " [3723, 4711, 3580, 4017, 3860, 2901, 1617],\n",
              " [4160, 4089, 962, 1794, 4218, 4919, 1221, 195],\n",
              " [725, 2361, 4247, 3793, 3040, 4145, 3640],\n",
              " [4557, 3774, 535],\n",
              " [1984, 4394, 697, 347, 440, 3241, 1571, 2029, 3785],\n",
              " [1680, 366, 2691, 820, 4990, 3628, 3716, 4207, 1682, 2164, 2637],\n",
              " [2437, 1893, 3923, 2988, 4393, 657, 2797, 3308],\n",
              " [4841, 1628, 3763, 1087, 3979, 566, 3819, 2797, 2806, 3640],\n",
              " [3772, 4488, 3078, 1427, 2797, 1125, 3954],\n",
              " [4895, 3979, 1166, 1505, 878, 2524, 3640],\n",
              " [3640,\n",
              "  3202,\n",
              "  3116,\n",
              "  1715,\n",
              "  1147,\n",
              "  40,\n",
              "  2914,\n",
              "  3640,\n",
              "  3202,\n",
              "  4089,\n",
              "  1486,\n",
              "  4505,\n",
              "  922,\n",
              "  2995],\n",
              " [4804, 1062, 3386, 1680],\n",
              " [4745, 4957, 62, 4709, 1382, 566, 1782, 4919, 1221, 195],\n",
              " [3598, 1015, 2992, 2152, 4919, 1221, 195],\n",
              " [3792, 1363, 3025, 664, 3221, 3966, 4919, 1221, 195],\n",
              " [2544, 4883, 2915, 1063, 130, 1359, 4061, 4312, 4031, 3888],\n",
              " [1672, 3752, 4492, 185, 1125, 2890, 4919, 1221, 195],\n",
              " [1432, 2797, 4814, 1954, 535, 2117, 4800, 582, 3284, 3640],\n",
              " [2507, 4986, 2903, 1125, 4644, 4828],\n",
              " [2612, 1643, 2635, 1486, 2806, 4257, 3509, 2797],\n",
              " [3888, 741, 655, 2797, 1137, 3877, 4616, 1435, 4919, 1221, 195],\n",
              " [816, 4739, 1835, 2503, 1751, 2810, 1070, 4212, 4919, 1221, 195],\n",
              " [3138, 724, 2242, 4919, 1221, 195],\n",
              " [4889, 3263, 4312, 2851, 4666, 4919, 1221, 195],\n",
              " [195, 4800, 4821, 4919, 1221, 195],\n",
              " [1431, 1727, 4657, 1702, 3473, 2839, 1722, 682, 2240, 4919, 1221, 195],\n",
              " [1588, 4744, 768, 3070, 4462, 1535, 3905, 267],\n",
              " [3235, 230, 4488, 3228, 2117, 1444, 1774, 3434],\n",
              " [3787, 3393, 3375, 139, 914, 3700, 4343, 4919, 1221, 195],\n",
              " [2797, 4522, 3388, 3924, 2890, 1166, 456, 3633, 3640],\n",
              " [3623, 2879, 4902, 4088, 2024, 4668],\n",
              " [4210, 2797, 4962, 4800, 2495, 3168, 1606, 4919, 1221, 195],\n",
              " [700, 1990, 1975, 934, 3546, 2964, 2492, 1665],\n",
              " [947, 1613, 3609, 3659, 3438, 4919, 1221, 195],\n",
              " [4662, 2062, 339, 4895, 2292, 3620, 4919, 1221, 195],\n",
              " [2054, 1359, 4456, 2797, 743, 1268, 1542],\n",
              " [3284, 931, 1676, 3490, 3270, 1811, 3867, 1303, 4919, 1221, 195],\n",
              " [464, 4652, 2797, 4353, 2209, 2448, 4919, 1221, 195],\n",
              " [1856, 2797, 3861, 4017, 2845, 4762],\n",
              " [1103, 1702, 834, 4835, 4720, 2883, 4247, 698, 4919, 1221, 195],\n",
              " [1148, 1774, 3904, 2544, 1606, 1651, 4871],\n",
              " [3905, 3515, 938, 1797, 4412, 4919, 1221, 195],\n",
              " [2797, 2030, 4318, 3357, 1726, 947, 4919, 1221, 195],\n",
              " [3330, 4211, 330, 3666, 4988, 3568, 2898, 4581],\n",
              " [65, 2117, 2809],\n",
              " [582, 2463, 2815, 3925, 1947, 4554, 3354, 4919, 1221, 195],\n",
              " [2252, 580, 4326, 1168, 4835, 3877, 4069, 3538, 3760, 3253, 4687, 3640],\n",
              " [1856, 2797, 4116, 53, 857, 1585, 891, 2932, 2290, 1173, 4919, 1221, 195],\n",
              " [2648, 931, 2075, 4467, 4560, 4919, 1221, 195],\n",
              " [2114, 1089, 2339, 4356, 4652, 2101, 4919, 1221, 195],\n",
              " [1856,\n",
              "  2797,\n",
              "  1862,\n",
              "  1727,\n",
              "  2802,\n",
              "  1680,\n",
              "  2677,\n",
              "  1578,\n",
              "  4754,\n",
              "  768,\n",
              "  4909,\n",
              "  865,\n",
              "  889,\n",
              "  4919,\n",
              "  1221,\n",
              "  195],\n",
              " [1318, 3277, 2797, 2676, 3180, 1389, 4919, 1221, 195],\n",
              " [1070, 2378, 2833, 4762, 1601, 1507],\n",
              " [2797, 366, 470],\n",
              " [4895, 4923, 2338, 1166, 1276, 4160, 3640],\n",
              " [3978,\n",
              "  1002,\n",
              "  2530,\n",
              "  4427,\n",
              "  2062,\n",
              "  1011,\n",
              "  1997,\n",
              "  2797,\n",
              "  3218,\n",
              "  2680,\n",
              "  2054,\n",
              "  4611,\n",
              "  1915],\n",
              " [4277, 1351, 4299, 777, 4796, 2832, 1254],\n",
              " [1672, 4658, 2699, 4977, 2169, 2544],\n",
              " [32, 470, 2901, 4902, 2580],\n",
              " [3354, 1550, 760, 3357, 4968, 2883, 2437, 2770, 104, 294, 4919, 1221, 195],\n",
              " [3462, 1680, 2677, 3282, 3640],\n",
              " [4134, 268, 3515, 4676, 4158, 4628, 1617, 2721, 3082],\n",
              " [1304, 1820, 834, 925, 3169, 3052, 2838, 1138],\n",
              " [831, 1794, 3434, 3350],\n",
              " [4044, 2378, 4367, 1249, 1743, 506, 2898, 4906],\n",
              " [3448, 3656, 3241, 3374],\n",
              " [827, 2635, 115, 366, 4036, 2386, 1299, 1810],\n",
              " [1423],\n",
              " [2814, 4844, 4883, 195, 3262, 3365, 4919, 1221, 195],\n",
              " [2797, 3083, 3987, 1961, 1947, 1601],\n",
              " [2207, 27, 3536, 40, 307, 4919, 1221, 195],\n",
              " [758, 2315, 1074, 1984, 1120, 929, 2797, 4293],\n",
              " [2538, 4711, 3580, 4856, 2209, 2797, 690],\n",
              " [2155, 719, 3231, 263, 2386, 2797, 691, 3640],\n",
              " [903, 2635, 1814, 1082, 1610, 3829, 2754, 4962, 4919, 1221, 195],\n",
              " [289, 3080, 4179],\n",
              " [3690, 3294, 923, 2903, 3954, 4919, 1221, 195],\n",
              " [3727, 1113, 2042, 4027, 4813, 3241, 4261, 2474, 3832, 3640],\n",
              " [1078, 4602, 4796, 2903, 3800, 4879, 2399, 2872, 4919, 1221, 195],\n",
              " [115, 1680, 1578, 4145, 2052, 2536, 3434],\n",
              " [4767, 4198, 2757, 2226, 1863, 4730, 4098, 1070, 2179, 3189, 3905],\n",
              " [1680, 4725, 4207, 2026, 2576],\n",
              " [1095, 3350, 2797, 2252, 2663, 4545, 99, 4919, 1221, 195],\n",
              " [1005, 1103, 4356, 3742, 2332, 941, 4919, 1221, 195],\n",
              " [4160, 1071, 2172, 1737, 744, 1005],\n",
              " [89, 2814, 1389, 998, 1085, 1472, 1708, 4919, 1221, 195],\n",
              " [1038, 4130, 998, 3832, 4394, 299, 299],\n",
              " [2810, 3043, 3501, 524, 393, 2903, 4919, 1221, 195],\n",
              " [4006, 1917, 4873, 2209, 4006, 1978, 2034, 3340],\n",
              " [501, 2831, 4249, 3659, 1352, 4762, 568, 889, 3796, 941],\n",
              " [4207, 2191, 3097, 850, 3238, 3031, 3640],\n",
              " [2142, 964, 3114, 1779, 4883, 568, 1474, 1594, 4919, 1221, 195],\n",
              " [4512, 3082, 1069, 757, 4089, 3859],\n",
              " [2264, 3398, 1224, 1847, 4217, 3297, 3739, 2130, 238, 3082, 3640],\n",
              " [690, 2485, 247, 1478, 2226, 1641, 1176, 3488],\n",
              " [4017, 752, 2315, 1542, 3213],\n",
              " [2797, 656, 3962, 3025, 3308, 2005, 115, 4467, 742, 4919, 1221, 195],\n",
              " [3297, 1061, 2947, 2797, 950, 2561, 4017, 3213, 3640],\n",
              " [1659, 453, 4762, 2797],\n",
              " [2112, 1148, 2117, 3284, 1363, 80, 1087],\n",
              " [769, 4348, 2277, 2348, 4495, 4264, 4927, 4909, 947],\n",
              " [3964, 2315, 2810, 4800, 2797, 3890],\n",
              " [115, 2857, 1856, 2797, 4266, 4692, 3347, 4434, 4169, 2513, 4919, 1221, 195],\n",
              " [3905, 3635, 238, 2890, 4117, 4383, 1695, 3488, 1760, 766, 4919, 1221, 195],\n",
              " [509, 3556, 1789, 3282, 3282, 3282, 4919, 1221, 195],\n",
              " [885, 4159, 3408, 3325, 2890, 4665, 1983, 4500],\n",
              " [1680, 768, 1493, 3485, 1680, 4560, 3863, 1810, 3285],\n",
              " [1053, 1651, 4013, 2399, 307, 4919, 1221, 195],\n",
              " [1975, 1101, 298, 503, 1431, 2831, 774, 2618, 4919, 1221, 195],\n",
              " [2797, 1737, 545, 1792, 1431, 361, 3716, 3202, 998, 2462, 2547, 66, 3640],\n",
              " [4516, 2014, 2983, 106, 4689, 3987],\n",
              " [1359, 4747, 4428, 1585, 3580, 1680, 1026, 2386],\n",
              " [3985, 4617, 2725, 3082, 3543, 4919, 1221, 195],\n",
              " [3137, 3481, 2191, 2914, 3160, 3123, 2797, 3763, 3640],\n",
              " [1987, 454, 719, 657, 1394, 1839, 1121, 2797, 4919, 1221, 195],\n",
              " [4854, 1699, 2903, 1925, 3511, 4919, 1221, 195],\n",
              " [2191, 4695, 2677, 2576, 318, 1062, 4813, 2792, 4919, 1221, 195],\n",
              " [4193, 799, 1431, 4891, 4738, 4912, 3452, 2983, 3206, 4169, 3509, 2852],\n",
              " [4223, 4941, 7, 2855, 1590, 1039, 2785, 4919, 1221, 195],\n",
              " [2315, 2059, 1103, 551, 2027, 3025],\n",
              " [238, 3040, 1489, 543, 2105, 4320],\n",
              " [856,\n",
              "  1601,\n",
              "  4919,\n",
              "  1221,\n",
              "  195,\n",
              "  3308,\n",
              "  3656,\n",
              "  1002,\n",
              "  1372,\n",
              "  1162,\n",
              "  3241,\n",
              "  4159,\n",
              "  3391,\n",
              "  4919,\n",
              "  1221,\n",
              "  195],\n",
              " [1386, 3070, 4031, 4856, 2677, 2496, 1856, 2797, 4293, 3640],\n",
              " [168, 2924, 115, 1970, 768, 3080, 1360, 2794, 1725, 2315, 3640],\n",
              " [2106, 458, 1679, 758, 4919, 1221, 195],\n",
              " [3550, 2084, 1352, 4876, 2191, 1121, 4348],\n",
              " [4089,\n",
              "  427,\n",
              "  1507,\n",
              "  4474,\n",
              "  1502,\n",
              "  3779,\n",
              "  3118,\n",
              "  742,\n",
              "  2903,\n",
              "  1984,\n",
              "  350,\n",
              "  4566,\n",
              "  1983,\n",
              "  3488],\n",
              " [2315, 1227, 4835, 3954, 387, 4476, 1103, 3987, 4919, 1221, 195],\n",
              " [2516, 4036, 3722, 4620, 2797, 4883, 2378, 3772, 3866, 393, 3640],\n",
              " [1690, 2639, 3340, 1005, 4800, 93, 1968, 3640],\n",
              " [816, 2390, 2582, 4676, 4718, 1469, 3829, 766],\n",
              " [3658, 4583, 2914, 4031, 1568, 4096, 162],\n",
              " [2071, 4800, 3848, 1680, 4560, 1069, 3659, 1069, 3598],\n",
              " [2166, 4383, 4906, 3473, 4919, 1749, 2639, 4919, 1221, 195],\n",
              " [3656, 1493, 4104, 2102, 2839, 1918, 340, 4970, 1054],\n",
              " [4467, 4560, 3832, 808, 4811, 1021, 4606, 3640],\n",
              " [2275, 2191, 2599, 931, 1168, 456, 3722, 4606, 3640],\n",
              " [1963, 4001, 4340, 1397, 1658, 4542, 3578, 1173, 4162, 1436],\n",
              " [2677, 366, 3648, 1975, 2530, 2652, 2811, 2725, 704, 2092, 2858, 585],\n",
              " [115, 1591, 3227, 2198, 40, 2797, 4919, 1221, 195],\n",
              " [1445, 1774, 3187, 2161, 3757, 3393, 225, 4919, 1221, 195],\n",
              " [4978, 40, 222, 766, 2940, 1537, 1893, 3159, 880],\n",
              " [4539, 3888, 3895, 3157, 2946],\n",
              " [2815, 2797, 4559, 366, 3473, 4513, 1021, 3640],\n",
              " [704, 4159, 195, 3025, 4919, 1221, 195],\n",
              " [3751, 1002, 2940, 2852, 238, 3051, 1678, 3003, 3716, 1615, 4557],\n",
              " [3357, 3143, 2531, 1931, 365, 2814, 1389, 4919, 1221, 195],\n",
              " [3487, 3052, 4780, 3800, 414, 3723, 3640],\n",
              " [2151, 1714, 3028, 3070, 2797, 3585, 3640],\n",
              " [2797, 743, 3250, 2348],\n",
              " [681, 4017, 4249, 4492, 1149, 4919, 1221, 195],\n",
              " [115, 2257, 2386, 2566, 198, 2866, 3987, 2718, 4989, 4919, 1221, 195],\n",
              " [4919, 3675, 4130, 4814, 119, 3634, 4720, 1925, 4743, 4919, 1221, 195],\n",
              " [1537, 2361, 2639, 3905, 3011, 3070, 2642, 990, 3640],\n",
              " [3385, 556, 312, 1606, 27, 21],\n",
              " [4162, 1794, 4919, 1221, 195],\n",
              " [2062, 3043, 115, 2706, 3625, 4720, 4688, 1116],\n",
              " [2719, 2940, 4162, 687, 2646, 4220, 3475, 3738, 3067, 3640],\n",
              " [3054, 4620, 1364, 3723, 4919, 1221, 195],\n",
              " [3763, 4036, 1737, 2797, 4383, 4941, 1984, 1507, 617, 1465, 2167, 3317, 3640],\n",
              " [891, 3921, 2770, 4510, 3921, 4497, 3357, 3921],\n",
              " [2838, 4096, 2852, 1825, 4476, 2370, 3464, 4919, 1221, 195],\n",
              " [3790, 3972, 1974, 2477, 4249, 4293],\n",
              " [2944, 1591, 1162, 4488, 4286, 3231, 993, 3086, 2397],\n",
              " [585, 3656, 3241, 3374],\n",
              " [2797, 4293, 3895, 3025, 883, 3424, 1472, 3640],\n",
              " [2797, 1969, 545, 2580, 393, 3070, 917, 1930, 4919, 1221, 195],\n",
              " [3563, 2456, 1658, 4542, 2516, 3342, 1002, 3640],\n",
              " [3102, 2110, 2010, 2421, 4571, 3385, 866],\n",
              " [115, 1680, 2677, 1970, 3877, 4601, 560, 4089],\n",
              " [3010, 950],\n",
              " [3163, 2464, 2028, 4277, 3063, 2832, 3815],\n",
              " [809, 2866, 4800, 2040, 2173, 3456, 4941, 4919, 1221, 195],\n",
              " [861, 554, 1474, 4218, 4689, 4435, 3987, 4919, 1221, 195],\n",
              " [4628, 75, 1397, 2797, 1130, 4654, 1080, 2468, 2105, 4434],\n",
              " [3, 2013, 4523, 3359, 1005, 3032, 4874, 4523, 4246, 3040],\n",
              " [3952, 1232, 1901, 372, 2600, 3285, 4412, 4919, 1221, 195],\n",
              " [4006, 3126, 1058, 3848, 4120, 4089, 4266, 4204, 3731, 4638, 2117, 372],\n",
              " [1839],\n",
              " [1825, 1984, 2022, 3848, 607, 552, 3434, 2642, 66, 3640],\n",
              " [1142,\n",
              "  1540,\n",
              "  4483,\n",
              "  2350,\n",
              "  2756,\n",
              "  3386,\n",
              "  773,\n",
              "  2117,\n",
              "  506,\n",
              "  4561,\n",
              "  3270,\n",
              "  4919,\n",
              "  2699,\n",
              "  1885],\n",
              " [1825, 1984, 2422, 4472, 2862, 2447, 2407, 3434, 3159, 1397],\n",
              " [4906, 440, 4408, 3473, 2516, 4384, 1622, 1359, 1617],\n",
              " [582, 3274, 3070, 719, 2901, 834],\n",
              " [4919, 500, 375, 3811, 4883, 4512, 3828, 1578],\n",
              " [4864, 4666, 3953, 4079, 2395, 1754, 2914, 4900, 304, 3640],\n",
              " [89, 1498, 823, 2537],\n",
              " [3232, 2991, 2574, 4495, 4736, 3734, 677, 4919, 1221, 195],\n",
              " [3853, 2014, 2950, 1356, 1762, 4926, 1472, 4919, 1221, 195],\n",
              " [1328, 4177, 2809, 858, 470, 3563],\n",
              " [3723, 4919, 1221, 195],\n",
              " [1103, 2914, 2350, 569, 4688, 3585],\n",
              " [3727, 1113, 3997, 3335, 2997, 4038, 3277, 4431, 2166, 4252, 3646],\n",
              " [2514, 1020, 4962, 2547, 1431, 154, 4049],\n",
              " [3815, 2785, 1377, 3374, 4073, 4919, 1221, 195],\n",
              " [1680, 2677, 2159, 4516, 991, 4415, 2026, 3050, 3097],\n",
              " [831, 2640, 2466, 3490, 4554, 4814, 4919, 1221, 195],\n",
              " [4434, 1502, 1402, 4210, 283],\n",
              " [4800, 4198, 3043, 2117, 785, 2727, 3284],\n",
              " [2792, 1268, 2832, 3721, 4443, 3546, 3010, 3824, 3251, 4919, 1221, 195],\n",
              " [2117, 445, 4485, 4850, 3434, 445, 4874, 3194],\n",
              " [4723, 3215, 2403, 2479, 4889, 4158, 3723, 4919, 1221, 195],\n",
              " [4221, 3979, 415, 4583, 728, 4730, 1794, 3979, 2652, 3640],\n",
              " [4581, 4183, 1352, 451, 1601, 1954, 328, 658, 1624, 1020],\n",
              " [4275, 2193, 186, 115, 2797, 1578, 4115, 3617, 1843],\n",
              " [2277, 3891, 4199, 3756, 1502, 4362, 2037, 1628, 4919, 1221, 195],\n",
              " [4089, 4747, 4186, 4169, 4293, 4411, 560, 941],\n",
              " [3069, 2811, 3347, 3659, 1431, 4771, 3640],\n",
              " [995, 998, 4016, 4919, 1221, 195],\n",
              " [202, 2997, 3778, 4500, 1356, 1008, 414, 3640],\n",
              " [1248, 2902, 3766, 4919, 1221, 195],\n",
              " [2117, 3666, 2639, 4198, 3126, 450, 3284, 2544, 1502, 2940, 4767, 2983],\n",
              " [4919, 2677, 2576, 4711, 4126, 1615, 847, 4415, 2026],\n",
              " [2441, 3724, 2639, 752, 4932, 1221, 4883, 1737, 4919, 1221, 195],\n",
              " [1797, 941, 4919, 1221, 195],\n",
              " [346, 4512, 3656, 3627, 4919, 1221, 195],\n",
              " [4030, 115, 4287, 1862, 3285, 2561, 3640],\n",
              " [3175, 3580, 3513, 1147, 2502, 4919, 2445, 3987, 4919, 1221, 195],\n",
              " [3501, 1968, 1377, 3723, 4919, 1221, 195],\n",
              " [18, 2279, 2503, 2122, 2636, 4919, 1221, 195],\n",
              " [4604, 4412, 2797, 2128, 1522, 4032, 4919, 1221, 195],\n",
              " [3532,\n",
              "  1070,\n",
              "  155,\n",
              "  328,\n",
              "  1125,\n",
              "  768,\n",
              "  1103,\n",
              "  1820,\n",
              "  1389,\n",
              "  3211,\n",
              "  2697,\n",
              "  3240,\n",
              "  499,\n",
              "  4589],\n",
              " [1005, 4516, 724, 2680, 2831, 2876, 2378, 3640],\n",
              " [3094, 885, 1632, 3240, 4442, 4610, 604, 4919, 1221, 195],\n",
              " [4516, 2014, 1336, 455, 3158, 834],\n",
              " [2725, 704, 4718, 2530, 2576, 1540, 1863, 2836, 3971],\n",
              " [1856, 2797, 2481, 3282, 4069, 1035, 4762, 2179, 4356, 4919, 1221, 195],\n",
              " [1405, 1931, 3184, 3544, 458, 2117, 2397, 4796, 2864, 3101],\n",
              " [3954, 1359, 4645, 1677, 1590, 3459, 3772],\n",
              " [1103, 698, 2130, 4661, 1505, 1719, 4159, 440, 570, 2903, 3679, 3640],\n",
              " [4176, 1918, 340, 1631, 1219, 2064, 1491, 3790],\n",
              " [1299, 4266, 4204, 1673, 904, 372, 2980, 4356, 189, 3977],\n",
              " [1680, 391, 1856, 2797, 4800, 1364, 3097],\n",
              " [4063, 2797, 4801, 3901, 162, 850, 1509, 3789, 2797, 3640],\n",
              " [2650, 2030, 1396, 3476, 81, 1042, 450, 4109, 3598, 4919, 1221, 195],\n",
              " [2797, 2932, 937, 538, 2277, 4957, 1113, 983, 3739, 4919, 1221, 195],\n",
              " [1856, 2797, 2605, 3121, 574, 4876, 2832, 280, 175, 129],\n",
              " [2509, 1623, 4116, 1, 328, 4226],\n",
              " [3284, 1431, 1917, 2290, 4220, 684, 3282, 2930, 1227],\n",
              " [917, 1208, 4397, 3340, 3198, 3250],\n",
              " [2956, 998, 1032, 1397, 931, 3888, 4919, 1221, 195],\n",
              " [106, 3043, 1517, 2890, 2144, 4383, 2182, 978, 4542],\n",
              " [4221, 4927, 1711, 115, 580, 3434, 3194, 3340],\n",
              " [3294, 1669, 438, 410, 3722, 901, 4919, 1221, 195],\n",
              " [3982, 2839, 2547, 80, 3662, 100, 1717, 865, 1869],\n",
              " [4205, 1139, 285, 4811, 3796, 350, 4529, 2618, 1680, 2677, 283, 2719, 2809],\n",
              " [3877, 4286, 3043, 1015, 1005, 3659, 2161, 4919, 1221, 195],\n",
              " [1052, 3043, 3198, 3860, 2677, 4705],\n",
              " [2797, 2932, 1219, 4184, 2264, 515, 3083, 4919, 1221, 195],\n",
              " [3546, 3341],\n",
              " [2797, 708, 3085, 3393, 3131, 238, 2339, 3464, 1901, 4383, 3399, 3910, 690],\n",
              " [4247, 722, 1103, 3954, 3189],\n",
              " [3772, 3616, 1749, 858, 690],\n",
              " [1377, 1006, 3434, 1420, 1984, 3208, 108],\n",
              " [3532,\n",
              "  3314,\n",
              "  646,\n",
              "  3400,\n",
              "  3020,\n",
              "  2315,\n",
              "  645,\n",
              "  4601,\n",
              "  3073,\n",
              "  3314,\n",
              "  646,\n",
              "  3400,\n",
              "  3020,\n",
              "  2315,\n",
              "  645,\n",
              "  4601,\n",
              "  3073,\n",
              "  4919,\n",
              "  4492,\n",
              "  3563],\n",
              " [2575, 1502, 3428, 2348, 4937],\n",
              " [1495, 885, 4689, 4967, 3726, 1436],\n",
              " [1825, 582, 1015, 3991, 3585, 17, 456, 407, 941, 3350, 2027, 2809],\n",
              " [1727, 3263, 1856, 2797, 3513, 126, 2378, 4207, 4919, 1221, 195],\n",
              " [2516, 4457, 1925, 3819, 3987, 2196, 4365, 3458, 3546, 40, 4598, 3640],\n",
              " [226, 4516, 643, 2783, 2903],\n",
              " [3538,\n",
              "  2766,\n",
              "  115,\n",
              "  4159,\n",
              "  2378,\n",
              "  115,\n",
              "  3905,\n",
              "  3182,\n",
              "  4890,\n",
              "  1489,\n",
              "  4882,\n",
              "  4391,\n",
              "  2921,\n",
              "  2161,\n",
              "  1183,\n",
              "  690],\n",
              " [536, 2239, 2513, 1299],\n",
              " [3634, 1472, 1550, 2677, 684, 4356, 2903],\n",
              " [2797, 4160, 3048, 2468, 4919, 2699, 1885],\n",
              " [2524, 1098, 1476, 4962, 2677, 2797, 4692, 3224, 4919, 1221, 195],\n",
              " [4223, 4557, 4017, 2500, 3556, 1298, 3325, 4919, 1221, 195],\n",
              " [4883, 1306, 3206, 4558, 2817, 2315, 4015, 1615, 4933, 99],\n",
              " [4343, 3867, 3080, 3625, 4720, 4688, 3585],\n",
              " [1982, 4427, 3977, 3718, 4735, 2182, 3022, 2277, 3625],\n",
              " [423, 1588, 1838, 2180, 1727, 3585, 1733, 2914, 2817, 1176, 3640],\n",
              " [302, 4554, 3233, 3010, 1796, 535],\n",
              " [3235, 526, 3297, 713, 2492, 1601, 350],\n",
              " [3070, 4598, 4766, 3516, 4835, 1661, 1903, 4256],\n",
              " [1731, 2797, 2806, 527, 3531, 4919, 1221, 195],\n",
              " [1148, 1794, 4369, 4300, 4523, 4169, 809, 891, 4279, 1955, 1089, 3656, 791],\n",
              " [2788, 3598, 410, 2797, 2580, 402, 1749, 2205],\n",
              " [4198, 4730, 2797, 1026, 3123, 2980, 4063, 2199, 4110],\n",
              " [941, 1685, 4476, 2890, 3574, 3194, 254, 4879, 3731, 4919, 1221, 195],\n",
              " [438, 2740, 3889, 40, 4312, 1225, 3634, 809, 849, 4919, 1221, 195],\n",
              " [4516, 2014, 1739, 1579, 2112, 2264, 1630, 2520, 519, 3391],\n",
              " [2635,\n",
              "  785,\n",
              "  2218,\n",
              "  3537,\n",
              "  1601,\n",
              "  3973,\n",
              "  3568,\n",
              "  2018,\n",
              "  2201,\n",
              "  4588,\n",
              "  2797,\n",
              "  3568,\n",
              "  2898,\n",
              "  3640],\n",
              " [2537, 379, 17, 4159, 1863, 2806],\n",
              " [4204, 4919, 1221, 1103, 2980, 3391, 1749, 2639, 4919, 1221, 195],\n",
              " [2797, 3991, 1678, 4933, 3837, 1289, 4919, 690, 4209, 1103, 3370],\n",
              " [4249, 631, 4393, 4536, 73, 3393, 888, 3164, 4919, 1221, 195],\n",
              " [1782, 2797, 4462, 4198, 3987, 941, 4883, 3506, 1932, 3640],\n",
              " [4516, 4198, 2920, 4927, 4340, 901, 2855, 2544, 398, 4516, 4198],\n",
              " [2155, 571, 3563, 1169, 2980, 1612, 3531, 3640],\n",
              " [941, 951, 2492, 3568],\n",
              " [3902,\n",
              "  4523,\n",
              "  2683,\n",
              "  3515,\n",
              "  3982,\n",
              "  1436,\n",
              "  1486,\n",
              "  3591,\n",
              "  4198,\n",
              "  1716,\n",
              "  2930,\n",
              "  4009,\n",
              "  4800,\n",
              "  3987,\n",
              "  3640],\n",
              " [4175, 861, 750, 690, 836, 3973, 73, 4919, 1221, 195],\n",
              " [3313, 2980, 2485, 3131, 1760, 4780, 4666, 2700, 3368],\n",
              " [2530, 2836, 865, 3799, 2576],\n",
              " [1688, 4820, 2142, 2191, 3867, 3374],\n",
              " [4604, 861, 2101, 4604, 2249, 556, 1680, 3655, 2797, 2101, 3308],\n",
              " [2983, 498, 3228, 591, 2173, 1749, 707, 1925, 1917, 690],\n",
              " [1680, 2677, 3905, 3664, 413, 4366, 3664, 4181, 1493, 4919, 1221, 195],\n",
              " [2117, 3199, 4879, 2831, 3789, 2166, 1628, 4817],\n",
              " [2064, 1617, 846, 4071, 1803, 3634, 3531, 2809, 2378, 3735],\n",
              " [3232, 2757, 3580, 731, 3861, 3401, 4988, 4089, 3804, 4636, 450, 3640],\n",
              " [768, 3080, 4720, 4477, 1402, 3991, 4919, 1221, 195],\n",
              " [1069, 2797, 2315, 153, 3488, 502],\n",
              " [3832, 2677, 1092, 3473, 2382, 1680, 738],\n",
              " [3284,\n",
              "  75,\n",
              "  27,\n",
              "  772,\n",
              "  2545,\n",
              "  2122,\n",
              "  3263,\n",
              "  3095,\n",
              "  777,\n",
              "  3451,\n",
              "  3881,\n",
              "  2739,\n",
              "  2543,\n",
              "  4878,\n",
              "  2458],\n",
              " [2579, 4666, 1291, 4844, 1777, 883, 4690, 4919, 1221, 195],\n",
              " [1005, 2797, 4412, 3300, 4370, 1796, 865, 858, 3640],\n",
              " [3832, 2677, 1297, 1658, 4561, 4959, 4017, 3538, 4872, 115, 4516],\n",
              " [2720, 271, 4680, 17, 1462, 1863, 2191, 4833, 4902],\n",
              " [4338, 2797, 413, 2378],\n",
              " [3902, 3574, 4336, 2504, 1722, 2796, 719, 3354, 4919, 1221, 195],\n",
              " [1426, 931, 2398, 2554, 3106, 3313, 3349, 238, 4919, 1221, 195],\n",
              " [3610, 1166, 2637, 4617, 1571, 3212, 3640],\n",
              " [2796, 3917, 3861, 917, 3370, 3401, 2513, 3714, 4919, 1221, 195],\n",
              " [306, 4329, 2797, 3991, 655, 1204, 206, 4050, 3888],\n",
              " [3070, 2468, 2797, 1208, 435, 3608, 4827, 3232, 2757, 2114],\n",
              " [377, 563, 2149, 205],\n",
              " [2797, 103, 4744, 2415, 3342, 3563, 1601, 3051, 3640],\n",
              " [4249, 631, 3183, 4512, 2637, 4786, 2838, 1306, 4919, 1221, 195],\n",
              " [178, 1630, 3340, 3789, 1, 1175, 4919, 1221, 195],\n",
              " [3223, 2766, 4159, 4207, 344, 2650, 4919, 1221, 195],\n",
              " [998, 4462, 3023, 3757, 4382, 198, 3978, 1431, 3716, 4919, 1221, 195],\n",
              " [2315, 4216, 1069, 2149, 834, 4096, 4560, 2318, 4919, 1221, 195],\n",
              " [2991, 103, 1789, 2896, 403, 3284, 4179, 2515, 4919, 1221, 195],\n",
              " [4419, 957, 2125, 1301, 49, 3015, 2876, 4017, 2518],\n",
              " [1856, 2797, 115, 1011, 4537, 1389, 4919, 1221, 195],\n",
              " [],\n",
              " [3516, 470, 4017, 3213, 2814, 3283],\n",
              " [727, 4078, 730, 4431, 3790, 3917, 4718, 992, 3198],\n",
              " [4343, 4754, 865, 4919, 4516],\n",
              " [3532, 1103, 379, 791, 3280, 1680, 3040, 834, 3478],\n",
              " [1982, 4427, 2079, 2948, 2105, 3232, 2757, 1680, 2677],\n",
              " [2797, 4156, 2646, 1173, 4356, 4919, 1221, 195],\n",
              " [153, 563, 2014, 2502, 2797, 2809, 865, 3053, 1984],\n",
              " [591, 1969, 2264, 3231, 4467, 3914, 572, 4919, 1221, 195],\n",
              " [2517, 891, 1208, 3282, 3538, 3640],\n",
              " [1601, 1507, 1537, 3568, 3659],\n",
              " [3849,\n",
              "  1789,\n",
              "  3811,\n",
              "  2118,\n",
              "  3138,\n",
              "  3849,\n",
              "  1931,\n",
              "  4370,\n",
              "  4645,\n",
              "  4853,\n",
              "  1409,\n",
              "  1978,\n",
              "  1232],\n",
              " [903, 4977, 1100, 4919, 1221, 195],\n",
              " [3282, 80, 1943, 1478, 4919, 1221, 195],\n",
              " [4277,\n",
              "  2071,\n",
              "  1440,\n",
              "  2832,\n",
              "  2624,\n",
              "  333,\n",
              "  4772,\n",
              "  2495,\n",
              "  3678,\n",
              "  1687,\n",
              "  1294,\n",
              "  1716,\n",
              "  786,\n",
              "  2832,\n",
              "  816,\n",
              "  1003,\n",
              "  280,\n",
              "  4574],\n",
              " [3763, 3308, 578, 2484, 1472, 2890, 970, 2531, 3551, 4554, 3640],\n",
              " [3316, 3067, 1983, 4476, 4231, 3112, 157, 3640],\n",
              " [4962, 3284, 40, 3629, 1916, 469, 2444, 2554, 1651, 1070, 2179],\n",
              " [69, 4549, 2420, 4897, 2217, 2516, 3804, 1168, 3745, 4278, 1139, 4135, 3640],\n",
              " [849, 3611, 4500, 1936, 4811, 4760, 1601, 4462, 1158],\n",
              " [1249, 1974, 27, 938, 2514, 932, 1431, 40, 3070, 2543, 3213, 3640],\n",
              " [3241, 4078, 1339, 2544, 1794, 530],\n",
              " [4739, 4775, 1589, 2405, 3772, 1934, 3013, 1026, 1168, 3640],\n",
              " [2142, 2218, 3213, 3227, 4356, 4529, 4572],\n",
              " [2986, 2854, 2544, 1125, 4919, 1221, 195],\n",
              " [3827, 1856, 2797, 2668, 2121, 2367, 1389, 4919, 1221, 195],\n",
              " [4745, 1680],\n",
              " [2009, 2366, 3991, 1838, 1811, 4919, 1221, 195],\n",
              " [3532, 313, 724, 1595, 2464],\n",
              " [4577, 2677, 2182, 99],\n",
              " [4249, 471, 731, 4160, 3580, 2797, 4919, 1221, 195],\n",
              " [656, 27, 4516, 2014, 2859, 393, 4919, 1221, 195],\n",
              " [1680, 2677, 2045, 2201, 4853, 4919, 1221, 195],\n",
              " [3187, 3851, 3536, 2070, 3080, 2540, 4822],\n",
              " [2797, 3866, 4027, 4792, 1352],\n",
              " [1680, 4617, 3494, 4557, 111, 1125, 1435, 3184, 4496],\n",
              " [3488, 1901, 3080, 1130, 3629, 4919, 1221, 195],\n",
              " [244, 1925, 3530, 2164, 867, 4919, 1221, 195],\n",
              " [2797, 1436, 4699, 4393, 53, 2906, 4919, 1221, 195],\n",
              " [4223, 2473, 454, 1733, 373, 3253, 4015, 1176, 4919, 1221, 195],\n",
              " [4508, 922, 2277, 4957, 4159, 2876, 1227, 4483, 4883, 4919, 1221, 195],\n",
              " [4881, 2797, 996, 1058, 1509, 4900, 1774, 3640],\n",
              " [53, 4207, 2677, 2576, 2637, 4356, 272, 2579, 2147, 2797, 4507],\n",
              " [3251, 4959, 4059, 2531, 1753],\n",
              " [3357, 1449, 1327, 375, 957, 931, 375, 4394, 2408, 3640],\n",
              " [4321, 4356, 454, 2022, 791, 2809, 4474, 1020, 4056],\n",
              " [1985, 4879, 2339, 1685, 3434, 3661, 2213],\n",
              " [1024, 2513, 2903, 4572, 3154, 4062, 4933, 4919, 1221, 195],\n",
              " [3937, 1236, 3733, 1431, 3089, 2809],\n",
              " [2797, 582, 4168, 3285, 1005, 4516, 991, 931, 3860],\n",
              " [730, 2797, 2639, 3578, 4059, 1125, 393, 3640],\n",
              " [3837, 2378, 1005, 3280, 2170, 3159, 1397, 941, 3659, 1856, 2797],\n",
              " [2618, 2105, 2809],\n",
              " [],\n",
              " [4343, 3867, 3080, 1069, 3625, 4720, 4688, 3585],\n",
              " [3888, 1985, 104, 294, 1301, 1983, 2155, 2022],\n",
              " [1958, 1444, 4995, 3718, 2470, 568, 153, 3082, 3160],\n",
              " [3811, 3401, 1680, 2677, 1062],\n",
              " [2537, 643, 4909, 3973, 4865, 1628],\n",
              " [2809, 4216, 3066, 4919, 2372],\n",
              " [1680, 4286, 186, 115, 3393],\n",
              " [4703,\n",
              "  4763,\n",
              "  1032,\n",
              "  2648,\n",
              "  2137,\n",
              "  358,\n",
              "  791,\n",
              "  2796,\n",
              "  1615,\n",
              "  563,\n",
              "  304,\n",
              "  4919,\n",
              "  1221,\n",
              "  195],\n",
              " [3532,\n",
              "  3890,\n",
              "  723,\n",
              "  4868,\n",
              "  1066,\n",
              "  1089,\n",
              "  3890,\n",
              "  723,\n",
              "  4868,\n",
              "  1066,\n",
              "  1089,\n",
              "  2516,\n",
              "  1363,\n",
              "  1421],\n",
              " [1856, 2797, 3340, 1237, 4428, 2367, 1389, 4919, 1221, 195],\n",
              " [2756, 3488, 186, 115, 809, 1680, 2209, 803, 1987],\n",
              " [103,\n",
              "  1121,\n",
              "  3473,\n",
              "  2112,\n",
              "  1121,\n",
              "  1298,\n",
              "  3591,\n",
              "  3004,\n",
              "  4641,\n",
              "  3235,\n",
              "  3473,\n",
              "  4467,\n",
              "  4560,\n",
              "  4023,\n",
              "  3640],\n",
              " [3923,\n",
              "  4393,\n",
              "  2022,\n",
              "  4500,\n",
              "  2470,\n",
              "  4512,\n",
              "  14,\n",
              "  2842,\n",
              "  2702,\n",
              "  1080,\n",
              "  3848,\n",
              "  31,\n",
              "  2957,\n",
              "  3640],\n",
              " [1072, 2507, 3771, 1130, 2148],\n",
              " [3423, 3981, 1070, 4614, 380, 1590, 4919, 1221, 195],\n",
              " [3659, 99, 1849, 3924, 1719, 2809],\n",
              " [4996, 2033, 4017, 1121, 4920, 4919, 3090, 4169, 2664, 911, 1011, 853],\n",
              " [2797, 4198, 2209, 2166],\n",
              " [3399, 1472, 1502, 2277, 3434, 2924, 1507, 499],\n",
              " [774, 4558, 372, 3846, 2796, 4313, 1228, 4919, 1221, 195],\n",
              " [3097, 162, 3972, 2980, 4089, 506, 3047, 690],\n",
              " [1328, 4356, 1328, 158, 4804, 1841],\n",
              " [2142, 2223, 2635, 4546, 1002, 2544, 1502, 3576, 3723, 4919, 1221, 195],\n",
              " [4745, 3486, 1103, 3954, 2838, 2315, 1737, 1039, 4235, 4919, 1221, 195],\n",
              " [28, 2700, 616, 941, 1339, 719, 619, 2618],\n",
              " [4063, 1006, 1103, 2238, 1495, 1486, 2644, 1753, 4919, 1221, 195],\n",
              " [4692, 456, 279, 1070, 2179],\n",
              " [1637, 942, 2014, 2903, 843, 4369, 2027, 4516, 3340, 4919, 1221, 195],\n",
              " [1803, 3401, 1498, 2038, 1658, 4023, 3987, 757, 3454],\n",
              " [1601, 1507, 3979, 1379, 806, 3053, 2797],\n",
              " [4280, 1121, 1276, 1856, 2797, 3202, 2540, 4235],\n",
              " [3640, 1002, 3656, 3218, 2680, 3640],\n",
              " [2797, 3563, 2578, 1149],\n",
              " [1825, 1715, 1296, 3987, 3800, 592, 3300, 3681, 690, 3640],\n",
              " [1606, 3490, 3202, 2142, 2191, 4866, 2797, 4919, 1221, 195],\n",
              " [1175, 725, 1301, 3488, 1428, 3213, 2038, 1901, 4919, 1221, 195],\n",
              " [1847, 925, 3723, 3396, 4123, 259, 4919, 1221, 195],\n",
              " [3201, 3551, 2580, 4882, 3563, 4160, 2797, 3640],\n",
              " [4865, 2988, 3538, 2444, 40, 4558, 2988, 4393, 3659],\n",
              " [925, 1359, 2550, 2158, 719, 1406],\n",
              " [2508, 4919, 4446, 2378],\n",
              " [68, 4655, 3987, 4648, 1377, 2196],\n",
              " [4223, 427, 4561, 263, 1015, 2784, 2699, 3580, 2797, 4919, 1221, 195],\n",
              " [4909, 1509],\n",
              " [719, 3937, 4357],\n",
              " [2797, 998, 3355, 1606, 1377],\n",
              " [3082, 1203, 2778, 1702, 883, 1009, 1356, 2238, 4919, 1221, 195],\n",
              " [2055, 3634, 4160, 4919, 1221, 3253, 2663, 4919, 1221, 195],\n",
              " [373, 3345, 2838, 97, 3825, 1987, 3640],\n",
              " [4278, 373, 2067, 1742, 202, 2028, 1471, 4932, 4919, 1221, 195],\n",
              " [560, 1661, 3308, 3251, 1794, 4162, 4919, 1221, 195],\n",
              " [2112, 2348, 3629, 4919, 1221, 195],\n",
              " [3860, 480, 4507, 1680, 154, 4835, 4546, 2639],\n",
              " [3832, 3146, 2399, 2797, 4356, 889, 4462, 4919, 4210, 4919, 1221, 195],\n",
              " [3263, 3962, 656, 4332, 1856, 2797, 2734, 4919, 1221, 195],\n",
              " [4889,\n",
              "  1021,\n",
              "  4732,\n",
              "  2797,\n",
              "  4800,\n",
              "  4919,\n",
              "  2544,\n",
              "  3924,\n",
              "  1070,\n",
              "  998,\n",
              "  3866,\n",
              "  2705,\n",
              "  2112,\n",
              "  552],\n",
              " [207, 3538, 2378, 154, 3040, 4616, 1601, 3973, 4651, 1377, 3640],\n",
              " [1856, 2797, 1553, 2257, 1588, 4419, 3925, 1594, 3159, 423, 1838],\n",
              " [],\n",
              " [3832, 95, 4780, 1502, 2544, 4840, 1494, 3723, 4919, 1221, 195],\n",
              " [125, 464, 3112, 3340, 3213, 241, 981, 4554, 4919, 1221, 195],\n",
              " [2531, 2397, 3832, 2388, 1716, 3070, 582, 3563],\n",
              " [4739, 3152, 3522, 2513, 2164, 3723, 4919, 1221, 195],\n",
              " [1334, 773, 772, 891, 299, 4159, 1431, 200, 3640],\n",
              " [62, 2689, 582, 1313, 2662, 999, 73, 2585],\n",
              " [3763, 114, 1083, 3357, 2030, 947, 4689, 3960, 2903, 2030, 3640],\n",
              " [2876, 3828, 272, 4654, 2693],\n",
              " [2339, 4598, 2445, 1130, 803, 847, 4919, 1221, 195],\n",
              " [3309, 1734, 4709, 3497, 939, 4762, 2677, 4919, 1221, 195],\n",
              " [2797, 4762, 1208, 3070, 2797, 857, 3570, 119, 1790],\n",
              " [1032, 358, 2128, 3434, 1753, 2474],\n",
              " [2797, 4006, 4800, 2640, 951, 4560, 3640],\n",
              " [3978, 4413, 2290, 1417, 1036, 240, 1794, 3241, 1505, 1624, 2940, 4068],\n",
              " [4198, 3083, 3811, 4492, 2797, 743, 439, 3393, 1127, 3097],\n",
              " [1021, 1630, 65, 503, 1773, 4369, 4919, 1221, 195],\n",
              " [4207, 2677, 2576, 2637, 4356, 272, 2579, 2147, 2797, 4507],\n",
              " [1680, 1054, 3280, 4060, 1418, 1578],\n",
              " [4027, 2486, 2242, 3632, 3987, 2137, 4919, 1221, 195],\n",
              " [8, 3009, 1470, 4027, 2838, 1436, 1289, 43, 2809, 344, 551, 2027],\n",
              " [3832, 2677, 1578, 3473, 2164, 660, 1523, 1680, 2809],\n",
              " [556, 3213, 1294, 1028, 2196, 3560, 1493, 4919, 1221, 195],\n",
              " [2797, 3280, 4179, 3284, 2056, 917, 4919, 1221, 195],\n",
              " [4745, 900, 3040, 3434, 1089, 3734, 1716, 3276, 4427, 4919, 1221, 195],\n",
              " [645, 2466, 1654, 3075, 4062, 2513],\n",
              " [1502, 4906, 2371, 4591, 350, 4160, 3282, 3977, 1559, 1628],\n",
              " [2138, 2806, 2790, 4517, 2030, 3070, 2797, 4462],\n",
              " [4865, 4825, 3070, 2029, 375],\n",
              " [722, 1103, 681, 4919, 3043, 3253, 3867, 4419, 3393, 2903, 3386, 3451, 3640],\n",
              " [931, 380, 3448, 1955, 1972, 1058, 3078],\n",
              " [4318, 2683, 470, 1077, 3819, 929, 551, 2027],\n",
              " [2516,\n",
              "  2796,\n",
              "  4027,\n",
              "  4813,\n",
              "  2474,\n",
              "  2339,\n",
              "  2134,\n",
              "  3848,\n",
              "  855,\n",
              "  138,\n",
              "  1397,\n",
              "  2397,\n",
              "  3282,\n",
              "  3640],\n",
              " [1285, 372, 2084, 1377, 3509, 186, 115],\n",
              " [1257, 865, 415, 3306, 3082, 3031, 2118, 3391, 4919, 1221, 195],\n",
              " [690, 4634, 2209, 2797, 3991, 1678, 1125, 3751, 1002, 438, 3340],\n",
              " [4204, 1578, 1606, 182, 713],\n",
              " [1797, 4467, 4827, 2039],\n",
              " [2397, 1276, 167, 3336, 27, 3962, 3977, 4919, 1221, 195],\n",
              " [3888, 156, 2293, 1495, 4101, 344, 4919, 1221, 3889, 4919, 1221, 195],\n",
              " [1166, 1397, 4230, 3082, 4624, 208, 3284, 2792, 4919, 1221, 195],\n",
              " [4247, 4812, 2264, 3494, 3954, 438, 4537, 4919, 1221, 195],\n",
              " [4467, 3914, 1208, 3067, 2964, 2474, 4554, 3640],\n",
              " [931, 3905, 2309, 3772, 4895, 4377, 2845, 1619],\n",
              " [3228, 1502, 2635, 3448, 825, 3240, 2090, 2799, 2719, 2114, 570, 1722],\n",
              " [3171, 1648, 1125, 1680, 2677, 1125, 1708, 3391, 4483],\n",
              " [2397, 2291, 2726, 3420, 115, 4210, 480, 2802, 1130, 4919, 1221, 195],\n",
              " [2887, 202, 3058, 4038, 3054, 4977, 2509, 4977, 4919, 1221, 195],\n",
              " [2495, 1524, 115, 96, 2677, 1925, 1601, 4919, 1221, 195],\n",
              " [1701, 1773, 548, 2797, 3585, 1868, 4919, 1221, 195],\n",
              " [2463, 391, 1431, 4341, 1413, 2306, 3202, 580, 1954, 1465],\n",
              " [2797, 154, 803, 3581, 2924, 1524, 506, 4919, 1221, 195],\n",
              " [3297, 2357, 1103, 3240, 2339, 3978, 1087, 4566, 2796, 350, 3527],\n",
              " [3532, 1682, 4904, 1344, 923, 797, 1682, 1080, 3006, 375, 1141],\n",
              " [4927, 2442, 2797, 556, 375, 2290, 1743, 3083, 4919, 1221, 195],\n",
              " [4007, 3082, 4017, 3184, 2277, 297, 504, 3044, 3640],\n",
              " [4512, 1011, 4126, 2130, 4919, 1221, 195],\n",
              " [1485, 1423, 3209, 4193, 1125, 4416, 3488, 1306, 4919, 1221, 195],\n",
              " [1121, 3987, 536, 4692, 3164, 350, 3973],\n",
              " [1431, 342, 1116, 4788, 3848, 360, 1148, 3530, 4919, 1221, 195],\n",
              " [2161, 3811, 3787, 4560, 4195, 4919, 1221, 195],\n",
              " [1915, 1168, 4695, 2857, 941, 3659, 1856, 2797],\n",
              " [366, 4720, 1548, 1095, 439, 3118, 4343, 4919, 1221, 195],\n",
              " [3973, 4735, 1678, 4442, 831, 1670, 2646],\n",
              " [3539, 3434, 2689, 1726, 4711, 172, 3126, 4919, 1221, 195],\n",
              " [1783, 3376, 3580, 4919, 1221, 195],\n",
              " [645, 3354, 3709, 473, 4588, 4844, 689],\n",
              " [1057, 44, 3953, 2634, 979, 48, 438],\n",
              " [3570, 4273, 2271, 3877, 591, 3632, 358, 831, 4830, 1116, 4919, 1221, 195],\n",
              " [1351, 4454, 2520, 3709, 4529, 3202, 1661, 3640],\n",
              " [404, 2591, 4797, 180, 307, 2683, 3284, 3757, 1963, 3302, 4919, 1221, 195],\n",
              " [4207, 1575, 4919, 2637, 2576, 2677, 1017, 1601, 3609],\n",
              " [582, 2695, 2117, 2801, 31, 2135],\n",
              " [2635, 1918, 4391, 2797, 1510, 4162, 891, 3790, 4704],\n",
              " [2983, 1121, 3274, 4777, 1327, 3164],\n",
              " [1814, 4931, 1676, 367, 1863, 2117, 3902, 3546],\n",
              " [13, 4871, 1875, 4031, 4919, 1221, 195],\n",
              " [1856, 2797, 2940, 3716, 334, 4089, 2930, 3280, 4919, 1221, 195],\n",
              " [953, 3401, 3832, 1495, 2539, 4118, 4919, 1221, 195],\n",
              " [2531, 1457, 2591, 365, 2814, 1389, 4919, 1221, 195],\n",
              " [4223, 4900, 4552, 2809, 38, 464, 2161, 4919, 1221, 195],\n",
              " [4506, 2857, 3500, 785, 4383, 4368, 4819, 3814, 2914, 4919, 1221, 195],\n",
              " [2809, 3580, 4340, 3089, 2809, 40, 4480],\n",
              " [2919, 1, 3717, 4207, 3739, 2191, 865, 3241, 4919, 2677, 2576, 2637],\n",
              " [1856, 2797, 4376, 1658, 4123, 1925],\n",
              " [2940, 1328, 560, 65, 4393, 941, 4919, 1221, 195],\n",
              " [3316, 2817, 803, 2315, 2639, 3309, 3434, 3223, 4919, 1221, 195],\n",
              " [3735, 3040, 2699, 3085, 3605],\n",
              " [2400, 724, 1794, 3241, 1125, 1778, 2797, 244, 1540, 3640],\n",
              " [55, 3121],\n",
              " [3053, 909, 3461, 1624, 75, 3661, 1431, 221, 3568],\n",
              " [3051, 922, 1680, 2677, 2339, 4344, 866, 2809],\n",
              " [4006, 773, 650, 1821, 3914, 4852, 4561, 3270, 4919, 1221, 195],\n",
              " [2438, 1101, 4340, 3228, 1947],\n",
              " [3263,\n",
              "  4389,\n",
              "  2832,\n",
              "  3591,\n",
              "  1018,\n",
              "  2832,\n",
              "  3263,\n",
              "  959,\n",
              "  3478,\n",
              "  1776,\n",
              "  1386,\n",
              "  2832,\n",
              "  3263,\n",
              "  4119,\n",
              "  4264,\n",
              "  4277,\n",
              "  2171,\n",
              "  3163,\n",
              "  1011],\n",
              " [40, 3568, 4169, 3077, 1762, 4397, 4160],\n",
              " [2958, 556, 4935, 4096, 4557, 1722],\n",
              " [2797, 2809, 3978, 3740, 1925, 4435],\n",
              " [3564, 580, 3811, 731, 3855, 4069, 941, 4883, 1918, 1208, 3640],\n",
              " [1299, 1863, 4800, 2809, 2797, 4325, 760, 2112, 4606, 115],\n",
              " [1715, 3147, 2797, 4454, 4436, 1005, 3992, 3979, 3309, 4356],\n",
              " [7, 4363, 4685],\n",
              " [3129, 1678, 3570, 366, 1208, 194],\n",
              " [981, 752, 1722, 3240, 3025, 1705, 4919, 1221, 195],\n",
              " [3604, 4184, 2580, 2187, 4865, 3424, 4022, 1465, 2565, 3640],\n",
              " [4620, 4767, 2999, 345, 402, 458, 40, 3093, 543, 3824],\n",
              " [2635, 2719, 3082, 2663, 299, 1038, 2038, 1306, 3640],\n",
              " [3043, 4573, 1221, 1661, 4833, 1193, 3722],\n",
              " [4598, 3079],\n",
              " [3987, 4822, 3459, 2034, 2701, 367, 4919, 1221, 195],\n",
              " [2719, 3570, 523, 1849, 3415, 4216, 4462, 3640],\n",
              " [272, 1493, 1680, 928, 971, 3599, 2089],\n",
              " [4780, 438, 1266, 1621, 3118, 4950, 4919, 1221, 195],\n",
              " [3116, 1904, 4335, 843, 1503, 4919, 1221, 195],\n",
              " [851, 1267, 1610, 4686, 2033, 4919, 1221, 195],\n",
              " [3399, 2497, 1159, 3971, 3735, 3490, 4919, 1221, 195],\n",
              " [2797, 402, 2932, 1322, 3688, 1121, 164, 2965, 4130, 4919, 1221, 195],\n",
              " [2076,\n",
              "  4172,\n",
              "  3811,\n",
              "  2833,\n",
              "  1005,\n",
              "  2887,\n",
              "  2655,\n",
              "  4511,\n",
              "  2212,\n",
              "  2045,\n",
              "  3308,\n",
              "  3531,\n",
              "  1150,\n",
              "  4919,\n",
              "  1221,\n",
              "  195],\n",
              " [4466, 4650, 3771, 2461, 3187, 4919, 1221, 195],\n",
              " [1725, 3161, 3513, 2995, 2639, 2797, 2],\n",
              " [2635, 2797, 803, 119, 1790, 1208, 2492, 619, 4027, 4813, 3640],\n",
              " [2919, 2338, 1166, 4031, 1849, 3024, 3053, 1365, 1601, 3640],\n",
              " [4198, 2117, 2509, 1585, 4919, 1680, 2576, 3395, 3580, 2723, 2114, 4207],\n",
              " [1909, 2217, 4654, 4198, 592, 2950, 4919, 1221, 195],\n",
              " [4448, 783, 4027, 2994],\n",
              " [1658, 1820, 3401, 1069, 744, 4017],\n",
              " [98, 2531, 2339, 2239, 1017, 4476, 845, 3640],\n",
              " [4223, 4023, 4492, 4435, 2882, 4160, 582, 4919, 1221, 195],\n",
              " [3118, 1377, 1162, 3751, 754, 3867, 4101, 4786, 1727, 1162],\n",
              " [2710, 130, 4035, 4919, 1221, 195],\n",
              " [4841, 3554, 1680, 1489, 834, 4654, 4017, 3591, 852],\n",
              " [894, 3357, 2965, 3992, 3198, 69, 1913, 2201, 3452, 4044, 3640],\n",
              " [1009, 4150, 115, 4785, 1931, 1363, 4962, 4919, 1221, 195],\n",
              " [3280, 1303, 4162, 2797, 4412],\n",
              " [1325, 2179, 1651, 4344],\n",
              " [3291, 2556, 2838, 4938, 1975, 1259, 2270, 3879, 4919, 1221, 195],\n",
              " [4341, 2112, 3161, 2852, 4488, 4436, 1794, 3659, 1856, 2797],\n",
              " [1985, 3240, 2547, 3732, 1685, 2185, 3977, 2166, 4919, 1221, 195],\n",
              " [1351, 1753, 4198, 350, 2839, 690],\n",
              " [4126, 99, 815, 1306, 4803, 2635, 3924, 4588, 831, 4919, 1221, 195],\n",
              " [1680, 3003, 1286, 3343, 2026, 4012],\n",
              " [1290, 635, 2239, 2503, 3045, 2814, 1389, 4919, 1221, 195],\n",
              " [3548, 2182, 3987, 1550, 1521, 2837, 774, 1863, 3504],\n",
              " [4427, 2677, 366, 4919, 1147, 1954, 1682, 773, 502, 534],\n",
              " [4341, 4160, 2797, 154, 1089, 583, 1431, 4919, 1221, 195],\n",
              " [2166, 1677, 3434, 577, 3194, 4850],\n",
              " [4116, 1680, 1839],\n",
              " [3978, 1060, 916, 3473, 4930, 1584, 2637, 1680, 2050],\n",
              " [506, 205, 3649, 3373, 2956, 4109, 4523, 4919, 1221, 195],\n",
              " [1502, 62, 2689, 4062, 1377, 2699, 66, 4767, 3883, 2689, 3905, 437, 3313],\n",
              " [4895, 3518, 1363, 3076, 1726, 947, 4160, 4919, 1221, 195],\n",
              " [3532, 1797, 2600, 597, 3796, 1797, 2600, 597, 3796, 1558, 3683, 3697, 3283],\n",
              " [1491, 535, 2173, 2191, 4819, 3227, 4496, 4207, 3383, 2983, 2797, 754],\n",
              " [4089, 4223, 4278, 4321, 1208, 4744, 2814, 1507],\n",
              " [1825, 2570, 3473, 2117, 3252, 4414, 392, 3598, 1862, 10],\n",
              " [4278, 2117, 4800, 1899, 717, 1779, 3978, 1002, 690],\n",
              " [1121, 2112, 4063, 2831, 2792, 903, 4434, 2806, 4126, 4919, 1221, 195],\n",
              " [2814, 1389, 1680, 2677, 1856, 2797, 31, 524, 4919, 1221, 195],\n",
              " [4376, 3154, 3893, 2509, 4516, 3598, 4687, 2238, 3987, 1901, 3860],\n",
              " [4126, 99, 2567, 1328, 4919, 4403, 4919, 1221, 195],\n",
              " [4660, 3291, 4005, 471, 697, 719, 817, 4919, 1221, 195],\n",
              " [1457, 4069, 903, 4883, 3538, 2348, 104, 294],\n",
              " [1856, 2797, 3118, 2312, 1124, 1363, 758],\n",
              " [1825, 4880, 2712, 3424, 4850, 1502, 1623, 1502, 99, 3131, 3640],\n",
              " [4623, 1359, 691, 4485, 2663, 635],\n",
              " [4468, 4701, 809, 289, 286],\n",
              " [420, 1021, 2995, 4204, 4735],\n",
              " [3137, 3481, 521, 2205, 4828, 366, 3640],\n",
              " [4218, 483, 2797, 1376, 4762, 4169, 883, 731, 1774, 4919, 1221, 195],\n",
              " [4101, 1847, 4492, 1208, 194, 4762, 785, 3981, 3640],\n",
              " [2760, 3752, 3080, 3542],\n",
              " [1431, 3828, 831, 2625, 1299, 1225, 3184, 2107, 4919, 1221, 195],\n",
              " [3354, 3987, 159, 1749, 2977, 4919, 1221, 195],\n",
              " [2747, 1153, 4356, 4419, 719, 1162, 3611],\n",
              " [3656, 4342, 2338, 3216, 4728],\n",
              " [2991, 1984, 2239, 1043, 3659, 2797, 923, 4610, 4204, 1617, 2398, 356],\n",
              " [4175, 3060, 4848, 4486, 4617, 2797, 1507, 2239, 4919, 1221, 195],\n",
              " [3070, 2797, 4516, 4814, 3616, 3198, 2635, 646, 2112, 3656],\n",
              " [364, 2315, 4488, 3082, 735, 2372, 4919, 1221, 195],\n",
              " [3620, 548, 1491, 1852, 1390, 1590, 4919, 1221, 195],\n",
              " [4207, 1137, 2315, 2903, 2326, 2117, 1013, 2884, 3357],\n",
              " [4436, 1022, 1029, 562, 2641, 2196],\n",
              " [2914, 741, 2635, 1631, 4336, 1356, 768, 1486],\n",
              " [3075, 1601, 3973, 3634, 2378, 865, 4485],\n",
              " [3978, 3693, 3954, 3323, 3434, 2694, 167, 4919, 1221, 195],\n",
              " [1601, 1507, 4545, 3434, 401, 1996],\n",
              " [4800,\n",
              "  2797,\n",
              "  1120,\n",
              "  2122,\n",
              "  2782,\n",
              "  2699,\n",
              "  4883,\n",
              "  1658,\n",
              "  4542,\n",
              "  3732,\n",
              "  3263,\n",
              "  2378,\n",
              "  2216,\n",
              "  4516,\n",
              "  3640],\n",
              " [1680, 2677, 4762, 3473, 3438, 3659, 5, 4356],\n",
              " [4669, 2698, 4000, 2343, 3111, 4184, 3647],\n",
              " [2518, 3488, 117, 3722, 4214],\n",
              " [3342, 1053, 1651, 4159, 3722, 2053, 1651],\n",
              " [3778, 2135, 730, 4762, 1208, 194, 1323, 809],\n",
              " [3070, 2797, 3585, 3017, 2196, 2213, 3972],\n",
              " [2149, 882, 4069, 2664, 1615, 4017, 4919, 1221, 195],\n",
              " [2683, 488, 437, 3313, 3434, 3658, 148, 40, 560],\n",
              " [2797, 4816, 560, 503, 2463, 391, 4674, 3451, 4919, 1221, 195],\n",
              " [3640, 1002, 3656, 3357, 508, 3640],\n",
              " [1680, 3040],\n",
              " [3227, 40, 4629, 4720, 4754, 1534, 347, 4542],\n",
              " [1856, 2797, 2991, 2484, 3589, 3180, 2814, 1389, 4919, 1221, 195],\n",
              " [115, 2720, 537, 4022, 3227, 3810, 1909],\n",
              " [3263, 1048, 4516, 1760, 1126, 1995, 1594, 3640],\n",
              " [2832, 1349, 2117, 4841, 3346, 3960, 283],\n",
              " [2887, 2398, 4027, 4733, 4207, 837, 2983, 3546, 3640],\n",
              " [1302, 3439, 1061, 1227, 313, 4919, 1221, 195],\n",
              " [202, 957, 3368, 4658, 1301, 3190, 3396, 73, 1790, 2239, 3640],\n",
              " [4865, 2022, 1904, 2872, 3585, 3040, 768, 4909],\n",
              " [2797, 1737, 1893, 431, 372, 4488, 4437, 4919, 1221, 195],\n",
              " [4962, 1856, 4278, 1606, 1489],\n",
              " [4592, 3434, 1269, 4919, 1221, 195],\n",
              " [3532, 1069, 3053, 2838, 4715],\n",
              " [53, 4207, 2677, 2576, 2637, 4356, 272, 2579, 2147, 2797, 4507],\n",
              " [1431, 1359, 1036, 4850, 1298, 3732, 3201, 1968, 4919, 1221, 195],\n",
              " [4175, 1130, 931, 1900, 674, 3824, 1482, 2182, 3202],\n",
              " [4837, 3060, 3040, 3585, 3625, 4720, 4688, 2038, 543],\n",
              " [2797, 755, 1936, 2239, 49, 1069, 1272, 3184, 4919, 1221, 195],\n",
              " [2094, 1036, 2637, 1942, 1203],\n",
              " [1523, 1928, 4343, 2149, 1909, 2513],\n",
              " [3578, 741, 2190, 1716, 4024, 4699, 1749],\n",
              " [751, 1341, 3732, 2544],\n",
              " [2797, 983, 4919, 458, 1794, 3866, 3640],\n",
              " [2516, 2642, 4356, 4762, 4353, 4523, 4169, 393, 1685, 470],\n",
              " [4126, 4457, 3209, 1042, 49, 1120, 612, 265, 3640],\n",
              " [506, 2205, 4101, 4488],\n",
              " [4962,\n",
              "  3370,\n",
              "  1997,\n",
              "  2565,\n",
              "  2544,\n",
              "  2196,\n",
              "  2997,\n",
              "  253,\n",
              "  865,\n",
              "  1100,\n",
              "  2544,\n",
              "  3168,\n",
              "  1249,\n",
              "  4919,\n",
              "  1221,\n",
              "  195],\n",
              " [1505, 189, 4348, 551, 2027, 3585, 785, 3625, 4720, 4688],\n",
              " [3399, 2999, 941, 4024, 3982, 165, 4383, 3240, 3585, 3640],\n",
              " [140, 4115, 3658, 4246, 3757, 2814, 1352],\n",
              " [1975, 1101, 2857, 1652, 3126, 1095, 4864, 4038, 3340, 4919, 1221, 195],\n",
              " [570, 2182, 4507, 1680, 2677, 3067, 1856, 2797, 4919, 1221, 195],\n",
              " [3342, 1002, 4919, 1221, 195, 4442, 3640, 2635, 2391, 3640],\n",
              " [2173, 4919, 4459, 4608, 1192, 393, 4919, 1221, 195],\n",
              " [806, 593, 3473, 2944, 524, 1431, 3542, 2371, 4199],\n",
              " [2468, 1702, 2614, 1431, 2792, 3961, 3213, 4687, 4919, 1221, 195],\n",
              " [2635, 2806, 344, 1974, 1475],\n",
              " [2226, 3578, 2635, 2466, 3342, 1002, 2372, 1680, 2677],\n",
              " [4223, 160, 1432, 3401, 3217, 285, 3787, 3173, 2832, 4919, 1221, 195],\n",
              " [1232, 4367, 147, 3285, 4707, 4369, 4995, 769],\n",
              " [2170, 674, 4959, 713, 3867, 931, 1232, 1956, 4488, 3470, 3485, 4814, 978],\n",
              " [4223, 1829, 2277, 2914, 195, 4785, 4388, 4304, 3024, 4919, 1221, 195],\n",
              " [115, 4383, 4522, 208, 4507, 1984, 3159],\n",
              " [4428, 1187, 4904, 2033],\n",
              " [774, 3987, 1498, 3793, 933, 3284, 3012, 4919, 1221, 195],\n",
              " [1789, 1359, 1989, 563],\n",
              " [834, 1624, 3044, 4442, 2483, 1495, 4435, 3251],\n",
              " [2614, 2031, 1042, 2903, 1426, 4903, 4919, 1221, 195],\n",
              " [4516, 2014, 106, 4383, 1617, 4592, 1727, 2639],\n",
              " [858, 1588, 272, 4249, 2806, 1578, 4895, 3025, 2797, 3640],\n",
              " [2852, 4523, 2639, 4096, 454, 1987, 454, 3903, 4159, 2166, 3640],\n",
              " [2866, 535, 4353, 1970, 1103, 4500, 3778, 3213, 4919, 1221, 195],\n",
              " [2685, 834, 4053, 3563, 4507, 373, 3345],\n",
              " [3659, 1762, 4058, 883, 3634, 3965],\n",
              " [3176, 823, 1839, 1052, 535],\n",
              " [2919, 1166, 3763, 114, 1491, 2034, 3137, 760, 3515, 643, 3640],\n",
              " [1431, 1727, 3263, 3987, 1431, 2437, 3580, 2422, 4356, 4919, 1221, 195],\n",
              " [2797, 3860],\n",
              " [2676, 3659, 2946, 871, 1062, 122, 1774, 2101, 4919, 1221, 195],\n",
              " [2797, 1622, 1624, 3850, 238, 2806, 1014, 2513, 1069, 690],\n",
              " [1725, 2315, 3043, 115, 3744, 2518, 195, 1743, 4919, 1221, 195],\n",
              " [2940, 4001, 4840, 160, 2106, 3772, 1954, 14, 4383, 4168],\n",
              " [4269, 2146, 2182, 4348, 2213, 1685, 2639],\n",
              " [2365, 3248, 1139, 4135, 3588, 1925, 4072, 4138, 4919, 1221, 195],\n",
              " [1790, 1389, 3448, 1955, 229],\n",
              " [304, 690, 1332, 3841, 556, 4271, 1680],\n",
              " [1331, 4919, 3359, 1009, 1524, 3997, 917, 4919, 1221, 195],\n",
              " [2677, 3600, 1449, 754, 1726],\n",
              " [1680, 2983, 3799, 1510, 1794, 1568, 2797, 3640],\n",
              " [1623, 2809, 366, 3825, 646, 2361, 4247, 4592],\n",
              " [409, 1711, 725, 556, 2326, 4028, 3997, 2852],\n",
              " [3982, 3168, 2839, 3250, 1535, 1789],\n",
              " [1312, 3973, 174, 2794, 3434, 2054, 2642, 4356, 54, 3640],\n",
              " [1176, 4249, 552, 1248, 4818, 4098, 4919, 1221, 195],\n",
              " [115, 1970, 2084, 3829, 1547, 3700, 2108, 4919, 1221, 195],\n",
              " [698, 1436, 4125, 3853, 3434, 4623, 1731, 1820],\n",
              " [1918, 4524, 340, 3554, 4409, 3532, 1680, 1306, 811],\n",
              " [2852, 2470, 1465, 1913, 3114, 3454, 4919, 1221, 195],\n",
              " [1203, 2219, 862, 2495, 3131, 280, 2290],\n",
              " [1502, 4387, 3778, 2677, 3355],\n",
              " [4748, 1509, 3067, 3284, 1942, 1486, 1032, 506],\n",
              " [917, 4356, 3965, 2797, 4785, 2239, 4919, 1221, 195],\n",
              " [3386, 377, 1103, 1509, 1624, 40, 1125, 2899, 3620, 690],\n",
              " [3342, 1002, 2797, 3997, 221, 36],\n",
              " [865, 3097],\n",
              " [4198, 4367, 3739, 3611, 102, 3097, 162, 3640],\n",
              " [1862, 2372, 3797, 4919, 1221, 195],\n",
              " [3598, 328, 903, 2809, 2399, 184, 3538, 3531, 1355, 647, 272, 4284],\n",
              " [4192, 3250, 583, 2781],\n",
              " [4496, 3051, 2576, 556, 1984, 655, 115, 4412],\n",
              " [1045, 1794, 4811, 3815, 2321, 3803, 1470, 1377],\n",
              " [3614, 1302, 3832, 1521, 556, 1187, 4709, 1680],\n",
              " [2685, 1520, 4348, 2609, 4356, 4854, 4919, 1221, 195],\n",
              " [4181, 3473, 3357, 1940, 456, 3357, 4784, 1794, 3640],\n",
              " [1203, 2509, 1623, 1, 328, 4226, 4557, 1299, 2618, 2625],\n",
              " [280, 212, 195, 3283, 3893, 2797, 4874, 2291, 3640],\n",
              " [3360, 4338, 1331, 3473, 3937, 3937, 4919, 1221, 195],\n",
              " [1680, 2677, 928, 1856, 2797, 4919, 3923, 1820, 272, 1493, 4919, 1221, 195],\n",
              " [2088, 1457, 4271, 443, 1856, 2797, 89, 2814, 1389, 4919, 1221, 195],\n",
              " [1825, 1249, 1974, 2277, 2914, 2117, 40, 3640],\n",
              " [1428, 1039, 4476, 1901, 225, 3723, 4919, 1221, 195],\n",
              " [3971, 1794, 3585, 4160, 2312, 3368, 4919, 1221, 195],\n",
              " [4988, 1355, 3278],\n",
              " [2114, 1856, 2797, 4780, 551, 2332, 522, 3370, 3236, 4919, 1221, 195],\n",
              " [401, 4159, 1779, 1011, 4089, 2835, 4919, 1221, 195],\n",
              " [2026, 4376, 1658, 4542, 2948, 4481, 4275, 1113, 289, 3640],\n",
              " [2797, 3893, 4297, 4686, 4198, 1113, 4871, 865, 2845, 524],\n",
              " [4450, 4745, 1671, 3848, 1789, 2112, 208, 4919, 1221, 195],\n",
              " [3832, 562, 3070, 2084, 3323, 4148, 1777, 836, 3488, 1306, 3640],\n",
              " [3263, 3778, 619, 3253, 4376, 768, 3451, 3640],\n",
              " [3023,\n",
              "  3757,\n",
              "  4919,\n",
              "  1032,\n",
              "  1029,\n",
              "  1136,\n",
              "  2890,\n",
              "  137,\n",
              "  464,\n",
              "  4864,\n",
              "  791,\n",
              "  4919,\n",
              "  1221,\n",
              "  195],\n",
              " [1856, 2797, 1680, 2677, 2144, 4671, 2814, 1389, 4919, 1221, 195],\n",
              " [3591, 3434, 831, 1377, 4096, 4089, 1760, 2544, 1502, 3576],\n",
              " [1103, 3954, 3082, 956, 1680, 3399],\n",
              " [4395, 421, 2569, 1984],\n",
              " [1175, 2276, 4000, 2445, 2326, 44, 1450, 834, 4101, 4786, 2870],\n",
              " [4063, 3355, 2166, 1431, 1299, 4722, 1005, 4483, 4919, 1221, 195],\n",
              " [4175, 4069, 569, 2797, 3662, 4638, 4762, 2112, 4554, 2838, 1227, 3640],\n",
              " [3732, 850, 4583, 3282, 4841, 3346, 1622, 4745, 2348],\n",
              " [2797, 1862, 1208, 194, 3925, 4366, 1085, 154, 4919, 1221, 195],\n",
              " [3532, 1680, 2677, 4476, 4231, 21, 556, 3097, 2576, 2612],\n",
              " [4030, 115, 1225, 3825, 2809, 1680, 3240, 4919, 4207, 2576, 2637],\n",
              " [1856, 2797, 4104, 339, 656, 3962, 2276, 2504, 1339, 4919, 1221, 195],\n",
              " [3888, 2022, 3240, 1868, 3904, 4970, 644, 4912, 1954, 647],\n",
              " [3502, 3164, 1043, 2084, 3171, 339, 3997, 1230],\n",
              " [2797, 4089, 2930, 3083, 3473, 2983, 3263, 2378, 4921, 3396, 4919, 1221, 195],\n",
              " [4581, 4183, 1036, 4895, 2719, 3848, 4492, 2293, 690],\n",
              " [3157, 1794, 3966, 971, 4640, 2161, 1942, 3453, 4919, 1221, 195],\n",
              " ...]"
            ]
          },
          "execution_count": 67,
          "metadata": {},
          "output_type": "execute_result"
        }
      ],
      "source": [
        "onehot_repr=[one_hot(words,voc_size)for words in corpus]\n",
        "onehot_repr"
      ]
    },
    {
      "cell_type": "code",
      "execution_count": 68,
      "metadata": {
        "colab": {
          "base_uri": "https://localhost:8080/",
          "height": 35
        },
        "id": "TgcXQ40quCku",
        "outputId": "61f589b1-15d5-47a8-df7a-24f7a77fe714"
      },
      "outputs": [
        {
          "data": {
            "text/plain": [
              "'flynn hillari clinton big woman campu breitbart'"
            ]
          },
          "execution_count": 68,
          "metadata": {},
          "output_type": "execute_result"
        }
      ],
      "source": [
        "corpus[1]"
      ]
    },
    {
      "cell_type": "code",
      "execution_count": 69,
      "metadata": {
        "colab": {
          "base_uri": "https://localhost:8080/"
        },
        "id": "lAZTNNHhuEqF",
        "outputId": "bb20b178-0a68-4baa-ce1b-88e318a0b08e"
      },
      "outputs": [
        {
          "data": {
            "text/plain": [
              "[103, 1680, 2677, 373, 238, 3771, 3640]"
            ]
          },
          "execution_count": 69,
          "metadata": {},
          "output_type": "execute_result"
        }
      ],
      "source": [
        "onehot_repr[1]"
      ]
    },
    {
      "cell_type": "markdown",
      "metadata": {
        "id": "9RHWcCWQkQbD"
      },
      "source": [
        "### Embedding Representation"
      ]
    },
    {
      "cell_type": "code",
      "execution_count": 70,
      "metadata": {
        "colab": {
          "base_uri": "https://localhost:8080/"
        },
        "id": "-GTV29eMkQbD",
        "outputId": "5a0094c6-0fa2-4ace-f9f2-f6bf392fe726"
      },
      "outputs": [
        {
          "name": "stdout",
          "output_type": "stream",
          "text": [
            "[[4542 3763 1737 ...    0    0    0]\n",
            " [ 103 1680 2677 ...    0    0    0]\n",
            " [2391 1568 1125 ...    0    0    0]\n",
            " ...\n",
            " [1657 1297 1631 ...    0    0    0]\n",
            " [3666 3284 4116 ...    0    0    0]\n",
            " [1909 4610 2276 ...    0    0    0]]\n"
          ]
        }
      ],
      "source": [
        "sent_length=20\n",
        "embedded_docs=pad_sequences(onehot_repr,padding='post',maxlen=sent_length)\n",
        "print(embedded_docs)"
      ]
    },
    {
      "cell_type": "code",
      "execution_count": 71,
      "metadata": {
        "colab": {
          "base_uri": "https://localhost:8080/"
        },
        "id": "CoflxkPAurrN",
        "outputId": "7c5c00e7-ab14-49c5-b3d6-62a509fe78e7"
      },
      "outputs": [
        {
          "data": {
            "text/plain": [
              "array([ 103, 1680, 2677,  373,  238, 3771, 3640,    0,    0,    0,    0,\n",
              "          0,    0,    0,    0,    0,    0,    0,    0,    0])"
            ]
          },
          "execution_count": 71,
          "metadata": {},
          "output_type": "execute_result"
        }
      ],
      "source": [
        "embedded_docs[1]"
      ]
    },
    {
      "cell_type": "code",
      "execution_count": 72,
      "metadata": {
        "colab": {
          "base_uri": "https://localhost:8080/"
        },
        "id": "e_jmJhufkQbE",
        "outputId": "f549200d-24dc-4839-b9b1-7bd5a96e55c9"
      },
      "outputs": [
        {
          "data": {
            "text/plain": [
              "array([4542, 3763, 1737, 2814, 2112, 2191, 4695,  903,   14, 2995,    0,\n",
              "          0,    0,    0,    0,    0,    0,    0,    0,    0])"
            ]
          },
          "execution_count": 72,
          "metadata": {},
          "output_type": "execute_result"
        }
      ],
      "source": [
        "embedded_docs[0]"
      ]
    },
    {
      "cell_type": "code",
      "execution_count": 81,
      "metadata": {
        "colab": {
          "base_uri": "https://localhost:8080/"
        },
        "id": "tHbC4h-CkQbE",
        "outputId": "08554ea9-0c93-452a-a47d-024e05fc9cf3",
        "scrolled": true
      },
      "outputs": [
        {
          "name": "stdout",
          "output_type": "stream",
          "text": [
            "Model: \"sequential_3\"\n",
            "_________________________________________________________________\n",
            " Layer (type)                Output Shape              Param #   \n",
            "=================================================================\n",
            " embedding_3 (Embedding)     (None, 20, 40)            200000    \n",
            "                                                                 \n",
            " dropout_2 (Dropout)         (None, 20, 40)            0         \n",
            "                                                                 \n",
            " lstm_3 (LSTM)               (None, 100)               56400     \n",
            "                                                                 \n",
            " dropout_3 (Dropout)         (None, 100)               0         \n",
            "                                                                 \n",
            " dense_3 (Dense)             (None, 1)                 101       \n",
            "                                                                 \n",
            "=================================================================\n",
            "Total params: 256501 (1001.96 KB)\n",
            "Trainable params: 256501 (1001.96 KB)\n",
            "Non-trainable params: 0 (0.00 Byte)\n",
            "_________________________________________________________________\n",
            "None\n"
          ]
        }
      ],
      "source": [
        "## Creating model\n",
        "embedding_vector_features=40 ##features representation\n",
        "model=Sequential()\n",
        "model.add(Embedding(voc_size,embedding_vector_features,input_length=sent_length))\n",
        "model.add(Dropout(0.3))\n",
        "model.add(LSTM(100))\n",
        "model.add(Dropout(0.3))\n",
        "model.add(Dense(1,activation='sigmoid'))\n",
        "model.compile(loss='binary_crossentropy',optimizer='adam',metrics=['accuracy'])\n",
        "print(model.summary())"
      ]
    },
    {
      "cell_type": "code",
      "execution_count": 74,
      "metadata": {
        "colab": {
          "base_uri": "https://localhost:8080/"
        },
        "id": "d2DLJijpkQbE",
        "outputId": "fcfaf701-045e-4eab-991c-c962c7a9e07a"
      },
      "outputs": [
        {
          "data": {
            "text/plain": [
              "(18285, (18285,))"
            ]
          },
          "execution_count": 74,
          "metadata": {},
          "output_type": "execute_result"
        }
      ],
      "source": [
        "len(embedded_docs),y.shape"
      ]
    },
    {
      "cell_type": "code",
      "execution_count": 82,
      "metadata": {
        "id": "FN5plPZekQbF"
      },
      "outputs": [],
      "source": [
        "import numpy as np\n",
        "X_final=np.array(embedded_docs)\n",
        "y_final=np.array(y)"
      ]
    },
    {
      "cell_type": "code",
      "execution_count": 83,
      "metadata": {
        "colab": {
          "base_uri": "https://localhost:8080/"
        },
        "id": "Bvzp0VYOkQbF",
        "outputId": "58e838fd-bf42-4a22-c938-105d832accab"
      },
      "outputs": [
        {
          "data": {
            "text/plain": [
              "((18285, 20), (18285,))"
            ]
          },
          "execution_count": 83,
          "metadata": {},
          "output_type": "execute_result"
        }
      ],
      "source": [
        "X_final.shape,y_final.shape"
      ]
    },
    {
      "cell_type": "code",
      "execution_count": 84,
      "metadata": {
        "id": "I8r4eUgCkQbF"
      },
      "outputs": [],
      "source": [
        "from sklearn.model_selection import train_test_split\n",
        "X_train, X_test, y_train, y_test = train_test_split(X_final, y_final, test_size=0.33, random_state=42)"
      ]
    },
    {
      "cell_type": "markdown",
      "metadata": {
        "id": "BPs6OT0okQbF"
      },
      "source": [
        "### Model Training"
      ]
    },
    {
      "cell_type": "code",
      "execution_count": 85,
      "metadata": {
        "colab": {
          "base_uri": "https://localhost:8080/"
        },
        "id": "S9xmjTq0kQbF",
        "outputId": "7b64bbec-055e-4aca-b991-5233ef94bf8c"
      },
      "outputs": [
        {
          "name": "stdout",
          "output_type": "stream",
          "text": [
            "Epoch 1/10\n",
            "192/192 [==============================] - 12s 30ms/step - loss: 0.3251 - accuracy: 0.8398 - val_loss: 0.2091 - val_accuracy: 0.9117\n",
            "Epoch 2/10\n",
            "192/192 [==============================] - 5s 27ms/step - loss: 0.1506 - accuracy: 0.9435 - val_loss: 0.2444 - val_accuracy: 0.9102\n",
            "Epoch 3/10\n",
            "192/192 [==============================] - 5s 27ms/step - loss: 0.1098 - accuracy: 0.9597 - val_loss: 0.2345 - val_accuracy: 0.9145\n",
            "Epoch 4/10\n",
            "192/192 [==============================] - 5s 26ms/step - loss: 0.0776 - accuracy: 0.9718 - val_loss: 0.2553 - val_accuracy: 0.9122\n",
            "Epoch 5/10\n",
            "192/192 [==============================] - 5s 28ms/step - loss: 0.0602 - accuracy: 0.9798 - val_loss: 0.3211 - val_accuracy: 0.9122\n",
            "Epoch 6/10\n",
            "192/192 [==============================] - 5s 27ms/step - loss: 0.0532 - accuracy: 0.9811 - val_loss: 0.3490 - val_accuracy: 0.9074\n",
            "Epoch 7/10\n",
            "192/192 [==============================] - 5s 27ms/step - loss: 0.0431 - accuracy: 0.9850 - val_loss: 0.3785 - val_accuracy: 0.9082\n",
            "Epoch 8/10\n",
            "192/192 [==============================] - 5s 27ms/step - loss: 0.0293 - accuracy: 0.9907 - val_loss: 0.4046 - val_accuracy: 0.9087\n",
            "Epoch 9/10\n",
            "192/192 [==============================] - 5s 28ms/step - loss: 0.0285 - accuracy: 0.9909 - val_loss: 0.4812 - val_accuracy: 0.9082\n",
            "Epoch 10/10\n",
            "192/192 [==============================] - 5s 27ms/step - loss: 0.0277 - accuracy: 0.9906 - val_loss: 0.3809 - val_accuracy: 0.9084\n"
          ]
        },
        {
          "data": {
            "text/plain": [
              "<keras.src.callbacks.History at 0x19376f12320>"
            ]
          },
          "execution_count": 85,
          "metadata": {},
          "output_type": "execute_result"
        }
      ],
      "source": [
        "### Finally Training\n",
        "model.fit(X_train,y_train,validation_data=(X_test,y_test),epochs=10,batch_size=64)"
      ]
    },
    {
      "cell_type": "markdown",
      "metadata": {
        "id": "jCSjMRXKkQbG"
      },
      "source": [
        "### Performance Metrics And Accuracy"
      ]
    },
    {
      "cell_type": "code",
      "execution_count": 86,
      "metadata": {
        "id": "bZrIpqEdkQbG"
      },
      "outputs": [
        {
          "name": "stdout",
          "output_type": "stream",
          "text": [
            "189/189 [==============================] - 2s 8ms/step\n"
          ]
        }
      ],
      "source": [
        "y_pred=model.predict(X_test)"
      ]
    },
    {
      "cell_type": "code",
      "execution_count": 87,
      "metadata": {
        "id": "9CjVf5fmm8UK"
      },
      "outputs": [],
      "source": [
        "y_pred=np.where(y_pred > 0.6, 1,0) ##AUC ROC Curve"
      ]
    },
    {
      "cell_type": "code",
      "execution_count": 88,
      "metadata": {
        "id": "C7HhaSsMkQbG"
      },
      "outputs": [],
      "source": [
        "from sklearn.metrics import confusion_matrix"
      ]
    },
    {
      "cell_type": "code",
      "execution_count": 89,
      "metadata": {
        "colab": {
          "base_uri": "https://localhost:8080/"
        },
        "id": "nP4N6kc0kQbG",
        "outputId": "8138a01f-dd43-4133-c303-2bb47961b4dd"
      },
      "outputs": [
        {
          "data": {
            "text/plain": [
              "array([[3147,  272],\n",
              "       [ 285, 2331]], dtype=int64)"
            ]
          },
          "execution_count": 89,
          "metadata": {},
          "output_type": "execute_result"
        }
      ],
      "source": [
        "confusion_matrix(y_test,y_pred)"
      ]
    },
    {
      "cell_type": "code",
      "execution_count": 90,
      "metadata": {
        "colab": {
          "base_uri": "https://localhost:8080/"
        },
        "id": "eIerFBH1kQbG",
        "outputId": "24b38377-13af-4c29-a933-eee2a7134277"
      },
      "outputs": [
        {
          "data": {
            "text/plain": [
              "0.907705053852527"
            ]
          },
          "execution_count": 90,
          "metadata": {},
          "output_type": "execute_result"
        }
      ],
      "source": [
        "from sklearn.metrics import accuracy_score\n",
        "accuracy_score(y_test,y_pred)"
      ]
    },
    {
      "cell_type": "code",
      "execution_count": 91,
      "metadata": {
        "colab": {
          "base_uri": "https://localhost:8080/"
        },
        "id": "7XvLoCHBkQbH",
        "outputId": "c6f87db4-6b63-4bb3-93c7-ce407231b97f"
      },
      "outputs": [
        {
          "name": "stdout",
          "output_type": "stream",
          "text": [
            "              precision    recall  f1-score   support\n",
            "\n",
            "           0       0.92      0.92      0.92      3419\n",
            "           1       0.90      0.89      0.89      2616\n",
            "\n",
            "    accuracy                           0.91      6035\n",
            "   macro avg       0.91      0.91      0.91      6035\n",
            "weighted avg       0.91      0.91      0.91      6035\n",
            "\n"
          ]
        }
      ],
      "source": [
        "from sklearn.metrics import classification_report\n",
        "print(classification_report(y_test,y_pred))"
      ]
    }
  ],
  "metadata": {
    "accelerator": "GPU",
    "colab": {
      "provenance": []
    },
    "gpuClass": "standard",
    "kernelspec": {
      "display_name": "Python 3",
      "language": "python",
      "name": "python3"
    },
    "language_info": {
      "codemirror_mode": {
        "name": "ipython",
        "version": 3
      },
      "file_extension": ".py",
      "mimetype": "text/x-python",
      "name": "python",
      "nbconvert_exporter": "python",
      "pygments_lexer": "ipython3",
      "version": "3.10.6"
    }
  },
  "nbformat": 4,
  "nbformat_minor": 0
}
